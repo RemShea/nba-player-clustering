{
 "cells": [
  {
   "cell_type": "markdown",
   "metadata": {},
   "source": [
    "# Unsupervised Learning for Clustering NBA Players:\n",
    "---\n",
    "## Feature Engineering\n",
    "The purpose of feature engineering many times is to find new ways to combine existing features that explains variance not otherwise capture by the features present, and/or reduces the number of features required to explain the variance as is currently captured. This is all the more important when working with small datasets, even if the goal isn't to perform any regression or classification just yet. Many clustering metrics use distance measures, and these algorithms are all the more perceptible to sparsity in the feature-space.\n",
    "\n",
    "Remy Shea, May 2019, https://github.com/RemShea/nba-player-clustering"
   ]
  },
  {
   "cell_type": "markdown",
   "metadata": {},
   "source": [
    "---\n",
    "# Import Libraries"
   ]
  },
  {
   "cell_type": "code",
   "execution_count": 389,
   "metadata": {},
   "outputs": [],
   "source": [
    "import pandas as pd\n",
    "import numpy as np\n",
    "import seaborn as sns\n",
    "\n",
    "plt.style.use('fivethirtyeight')\n",
    "from sklearn.preprocessing import PowerTransformer, StandardScaler\n",
    "%matplotlib inline"
   ]
  },
  {
   "cell_type": "markdown",
   "metadata": {},
   "source": [
    "---\n",
    "# Read Data"
   ]
  },
  {
   "cell_type": "code",
   "execution_count": 289,
   "metadata": {},
   "outputs": [],
   "source": [
    "player_db = pd.read_csv('../data/player_db.csv')\n",
    "player_db.index = player_db.name"
   ]
  },
  {
   "cell_type": "markdown",
   "metadata": {},
   "source": [
    "---\n",
    "# Imputation"
   ]
  },
  {
   "cell_type": "code",
   "execution_count": 290,
   "metadata": {},
   "outputs": [
    {
     "name": "stdout",
     "output_type": "stream",
     "text": [
      "Variable fg3_pct has 12 missing values\n",
      "name\n",
      "Clint Capela        NaN\n",
      "Rudy Gobert         NaN\n",
      "Nerlens Noel        NaN\n",
      "Jakob Poeltl        NaN\n",
      "Ivica Zubac         NaN\n",
      "Kosta Koufos        NaN\n",
      "Richaun Holmes      NaN\n",
      "Bismack Biyombo     NaN\n",
      "Tristan Thompson    NaN\n",
      "Ante Zizic          NaN\n",
      "DeAndre Jordan      NaN\n",
      "Mitchell Robinson   NaN\n",
      "Name: fg3_pct, dtype: float64\n",
      "------------------------------------------------------------\n",
      "\n",
      "Variable fg3_pct_ast has 25 missing values\n",
      "name\n",
      "Jordan Bell         NaN\n",
      "Shaun Livingston    NaN\n",
      "Nene                NaN\n",
      "Clint Capela        NaN\n",
      "Rudy Gobert         NaN\n",
      "Steven Adams        NaN\n",
      "Nerlens Noel        NaN\n",
      "Jakob Poeltl        NaN\n",
      "Ivica Zubac         NaN\n",
      "Kosta Koufos        NaN\n",
      "Harry Giles         NaN\n",
      "Tyson Chandler      NaN\n",
      "Joakim Noah         NaN\n",
      "Richaun Holmes      NaN\n",
      "Deandre Ayton       NaN\n",
      "Ben Simmons         NaN\n",
      "Ed Davis            NaN\n",
      "Khem Birch          NaN\n",
      "Zaza Pachulia       NaN\n",
      "Bismack Biyombo     NaN\n",
      "Cristiano Felicio   NaN\n",
      "Tristan Thompson    NaN\n",
      "Ante Zizic          NaN\n",
      "DeAndre Jordan      NaN\n",
      "Mitchell Robinson   NaN\n",
      "Name: fg3_pct_ast, dtype: float64\n",
      "------------------------------------------------------------\n",
      "\n",
      "Variable fg3_pct_corner has 26 missing values\n",
      "name\n",
      "Jordan Bell           NaN\n",
      "Shaun Livingston      NaN\n",
      "Nene                  NaN\n",
      "Clint Capela          NaN\n",
      "Rudy Gobert           NaN\n",
      "Steven Adams          NaN\n",
      "Nerlens Noel          NaN\n",
      "Jakob Poeltl          NaN\n",
      "Ivica Zubac           NaN\n",
      "Willie Cauley-Stein   NaN\n",
      "Kosta Koufos          NaN\n",
      "Tyson Chandler        NaN\n",
      "Joakim Noah           NaN\n",
      "Jahlil Okafor         NaN\n",
      "Richaun Holmes        NaN\n",
      "Ben Simmons           NaN\n",
      "Ed Davis              NaN\n",
      "Khem Birch            NaN\n",
      "Zaza Pachulia         NaN\n",
      "Cody Zeller           NaN\n",
      "Bismack Biyombo       NaN\n",
      "Cristiano Felicio     NaN\n",
      "Tristan Thompson      NaN\n",
      "Ante Zizic            NaN\n",
      "DeAndre Jordan        NaN\n",
      "Mitchell Robinson     NaN\n",
      "Name: fg3_pct_corner, dtype: float64\n",
      "------------------------------------------------------------\n",
      "\n",
      "Variable fg_pct_10_16 has 1 missing values\n",
      "name\n",
      "Tyson Chandler   NaN\n",
      "Name: fg_pct_10_16, dtype: float64\n",
      "------------------------------------------------------------\n",
      "\n",
      "Variable fg_pct_16_xx has 3 missing values\n",
      "name\n",
      "Clint Capela   NaN\n",
      "Gary Clark     NaN\n",
      "Steven Adams   NaN\n",
      "Name: fg_pct_16_xx, dtype: float64\n",
      "------------------------------------------------------------\n",
      "\n",
      "Variable pct_1 has 217 missing values\n",
      "name\n",
      "Draymond Green            NaN\n",
      "Jordan Bell               NaN\n",
      "DeMarcus Cousins          NaN\n",
      "Kevin Durant              NaN\n",
      "Kevon Looney              NaN\n",
      "Jonas Jerebko             NaN\n",
      "Alfonzo McKinnie          NaN\n",
      "Trey Lyles                NaN\n",
      "Juan Hernangomez          NaN\n",
      "Paul Millsap              NaN\n",
      "Mason Plumlee             NaN\n",
      "Torrey Craig              NaN\n",
      "Nikola Jokic              NaN\n",
      "CJ McCollum               NaN\n",
      "Al-Farouq Aminu           NaN\n",
      "Jake Layman               NaN\n",
      "Meyers Leonard            NaN\n",
      "Maurice Harkless          NaN\n",
      "Zach Collins              NaN\n",
      "Jusuf Nurkic              NaN\n",
      "Rodney Hood               NaN\n",
      "Enes Kanter               NaN\n",
      "Nene                      NaN\n",
      "P.J. Tucker               NaN\n",
      "Clint Capela              NaN\n",
      "Gary Clark                NaN\n",
      "Danuel House              NaN\n",
      "Kenneth Faried            NaN\n",
      "Rudy Gobert               NaN\n",
      "Jae Crowder               NaN\n",
      "                           ..\n",
      "DeAndre' Bembry           NaN\n",
      "John Collins              NaN\n",
      "Dewayne Dedmon            NaN\n",
      "Omari Spellman            NaN\n",
      "Alex Len                  NaN\n",
      "Vince Carter              NaN\n",
      "Robin Lopez               NaN\n",
      "Timothe Luwawu-Cabarrot   NaN\n",
      "Lauri Markkanen           NaN\n",
      "Cristiano Felicio         NaN\n",
      "Otto Porter               NaN\n",
      "Wayne Selden              NaN\n",
      "Chandler Hutchison        NaN\n",
      "Wendell Carter Jr.        NaN\n",
      "Zach LaVine               NaN\n",
      "Antonio Blakeney          NaN\n",
      "Larry Nance Jr.           NaN\n",
      "Kevin Love                NaN\n",
      "Tristan Thompson          NaN\n",
      "Ante Zizic                NaN\n",
      "Cedi Osman                NaN\n",
      "David Nwaba               NaN\n",
      "Nik Stauskas              NaN\n",
      "Lance Thomas              NaN\n",
      "Kevin Knox                NaN\n",
      "Mario Hezonja             NaN\n",
      "DeAndre Jordan            NaN\n",
      "Luke Kornet               NaN\n",
      "Mitchell Robinson         NaN\n",
      "Noah Vonleh               NaN\n",
      "Name: pct_1, Length: 217, dtype: float64\n",
      "------------------------------------------------------------\n",
      "\n",
      "Variable pct_2 has 173 missing values\n",
      "name\n",
      "Draymond Green       NaN\n",
      "Jordan Bell          NaN\n",
      "Quinn Cook           NaN\n",
      "DeMarcus Cousins     NaN\n",
      "Kevin Durant         NaN\n",
      "Kevon Looney         NaN\n",
      "Jonas Jerebko        NaN\n",
      "Trey Lyles           NaN\n",
      "Juan Hernangomez     NaN\n",
      "Paul Millsap         NaN\n",
      "Mason Plumlee        NaN\n",
      "Nikola Jokic         NaN\n",
      "Damian Lillard       NaN\n",
      "Al-Farouq Aminu      NaN\n",
      "Meyers Leonard       NaN\n",
      "Maurice Harkless     NaN\n",
      "Zach Collins         NaN\n",
      "Jusuf Nurkic         NaN\n",
      "Enes Kanter          NaN\n",
      "Nene                 NaN\n",
      "P.J. Tucker          NaN\n",
      "Chris Paul           NaN\n",
      "Clint Capela         NaN\n",
      "Gary Clark           NaN\n",
      "Kenneth Faried       NaN\n",
      "Rudy Gobert          NaN\n",
      "Ricky Rubio          NaN\n",
      "Joe Ingles           NaN\n",
      "Derrick Favors       NaN\n",
      "Georges Niang        NaN\n",
      "                      ..\n",
      "Kelly Olynyk         NaN\n",
      "John Wall            NaN\n",
      "Sam Dekker           NaN\n",
      "Bobby Portis         NaN\n",
      "Jeff Green           NaN\n",
      "Jabari Parker        NaN\n",
      "Thomas Bryant        NaN\n",
      "Chasson Randle       NaN\n",
      "Taurean Prince       NaN\n",
      "John Collins         NaN\n",
      "Dewayne Dedmon       NaN\n",
      "Trae Young           NaN\n",
      "Omari Spellman       NaN\n",
      "Alex Len             NaN\n",
      "Robin Lopez          NaN\n",
      "Lauri Markkanen      NaN\n",
      "Cristiano Felicio    NaN\n",
      "Chandler Hutchison   NaN\n",
      "Wendell Carter Jr.   NaN\n",
      "Larry Nance Jr.      NaN\n",
      "Kevin Love           NaN\n",
      "Tristan Thompson     NaN\n",
      "Ante Zizic           NaN\n",
      "Cedi Osman           NaN\n",
      "Collin Sexton        NaN\n",
      "Lance Thomas         NaN\n",
      "DeAndre Jordan       NaN\n",
      "Luke Kornet          NaN\n",
      "Mitchell Robinson    NaN\n",
      "Noah Vonleh          NaN\n",
      "Name: pct_2, Length: 173, dtype: float64\n",
      "------------------------------------------------------------\n",
      "\n",
      "Variable pct_3 has 168 missing values\n",
      "name\n",
      "Jordan Bell           NaN\n",
      "Stephen Curry         NaN\n",
      "Quinn Cook            NaN\n",
      "DeMarcus Cousins      NaN\n",
      "Kevon Looney          NaN\n",
      "Trey Lyles            NaN\n",
      "Jamal Murray          NaN\n",
      "Mason Plumlee         NaN\n",
      "Nikola Jokic          NaN\n",
      "Monte Morris          NaN\n",
      "Damian Lillard        NaN\n",
      "Al-Farouq Aminu       NaN\n",
      "Evan Turner           NaN\n",
      "Meyers Leonard        NaN\n",
      "Zach Collins          NaN\n",
      "Jusuf Nurkic          NaN\n",
      "Enes Kanter           NaN\n",
      "James Harden          NaN\n",
      "Nene                  NaN\n",
      "Chris Paul            NaN\n",
      "Clint Capela          NaN\n",
      "Kenneth Faried        NaN\n",
      "Rudy Gobert           NaN\n",
      "Ricky Rubio           NaN\n",
      "Derrick Favors        NaN\n",
      "Dante Exum            NaN\n",
      "Dennis Schroder       NaN\n",
      "Steven Adams          NaN\n",
      "Patrick Patterson     NaN\n",
      "Nerlens Noel          NaN\n",
      "                       ..\n",
      "Bam Adebayo           NaN\n",
      "Kelly Olynyk          NaN\n",
      "John Wall             NaN\n",
      "Bobby Portis          NaN\n",
      "Tomas Satoransky      NaN\n",
      "Thomas Bryant         NaN\n",
      "Chasson Randle        NaN\n",
      "John Collins          NaN\n",
      "Dewayne Dedmon        NaN\n",
      "Trae Young            NaN\n",
      "Omari Spellman        NaN\n",
      "Alex Len              NaN\n",
      "Robin Lopez           NaN\n",
      "Lauri Markkanen       NaN\n",
      "Cristiano Felicio     NaN\n",
      "Wendell Carter Jr.    NaN\n",
      "Ryan Arcidiacono      NaN\n",
      "Larry Nance Jr.       NaN\n",
      "Brandon Knight        NaN\n",
      "Kevin Love            NaN\n",
      "Tristan Thompson      NaN\n",
      "Matthew Dellavedova   NaN\n",
      "Ante Zizic            NaN\n",
      "Collin Sexton         NaN\n",
      "Emmanuel Mudiay       NaN\n",
      "Dennis Smith Jr.      NaN\n",
      "DeAndre Jordan        NaN\n",
      "Luke Kornet           NaN\n",
      "Mitchell Robinson     NaN\n",
      "Noah Vonleh           NaN\n",
      "Name: pct_3, Length: 168, dtype: float64\n",
      "------------------------------------------------------------\n",
      "\n",
      "Variable pct_4 has 159 missing values\n",
      "name\n",
      "Stephen Curry         NaN\n",
      "Shaun Livingston      NaN\n",
      "Quinn Cook            NaN\n",
      "DeMarcus Cousins      NaN\n",
      "Malik Beasley         NaN\n",
      "Jamal Murray          NaN\n",
      "Gary Harris           NaN\n",
      "Nikola Jokic          NaN\n",
      "Monte Morris          NaN\n",
      "Damian Lillard        NaN\n",
      "Evan Turner           NaN\n",
      "Meyers Leonard        NaN\n",
      "Seth Curry            NaN\n",
      "James Harden          NaN\n",
      "Eric Gordon           NaN\n",
      "Nene                  NaN\n",
      "Chris Paul            NaN\n",
      "Clint Capela          NaN\n",
      "Austin Rivers         NaN\n",
      "Rudy Gobert           NaN\n",
      "Ricky Rubio           NaN\n",
      "Donovan Mitchell      NaN\n",
      "Dante Exum            NaN\n",
      "Dennis Schroder       NaN\n",
      "Russell Westbrook     NaN\n",
      "Steven Adams          NaN\n",
      "Hamidou Diallo        NaN\n",
      "Derrick White         NaN\n",
      "Patty Mills           NaN\n",
      "Marco Belinelli       NaN\n",
      "                       ..\n",
      "Devonte' Graham       NaN\n",
      "Tony Parker           NaN\n",
      "Shelvin Mack          NaN\n",
      "Goran Dragic          NaN\n",
      "Hassan Whiteside      NaN\n",
      "Dion Waiters          NaN\n",
      "Dwyane Wade           NaN\n",
      "John Wall             NaN\n",
      "Tomas Satoransky      NaN\n",
      "Bradley Beal          NaN\n",
      "Chasson Randle        NaN\n",
      "Kent Bazemore         NaN\n",
      "Trae Young            NaN\n",
      "Kevin Huerter         NaN\n",
      "Alex Len              NaN\n",
      "Robin Lopez           NaN\n",
      "Kris Dunn             NaN\n",
      "Antonio Blakeney      NaN\n",
      "Ryan Arcidiacono      NaN\n",
      "Shaquille Harrison    NaN\n",
      "Brandon Knight        NaN\n",
      "Jordan Clarkson       NaN\n",
      "Matthew Dellavedova   NaN\n",
      "Collin Sexton         NaN\n",
      "Emmanuel Mudiay       NaN\n",
      "Frank Ntilikina       NaN\n",
      "Dennis Smith Jr.      NaN\n",
      "DeAndre Jordan        NaN\n",
      "Mitchell Robinson     NaN\n",
      "Allonzo Trier         NaN\n",
      "Name: pct_4, Length: 159, dtype: float64\n",
      "------------------------------------------------------------\n",
      "\n",
      "Variable pct_5 has 218 missing values\n",
      "name\n",
      "Klay Thompson             NaN\n",
      "Stephen Curry             NaN\n",
      "Andre Iguodala            NaN\n",
      "Shaun Livingston          NaN\n",
      "Quinn Cook                NaN\n",
      "Alfonzo McKinnie          NaN\n",
      "Malik Beasley             NaN\n",
      "Jamal Murray              NaN\n",
      "Paul Millsap              NaN\n",
      "Gary Harris               NaN\n",
      "Torrey Craig              NaN\n",
      "Will Barton               NaN\n",
      "Monte Morris              NaN\n",
      "Damian Lillard            NaN\n",
      "CJ McCollum               NaN\n",
      "Evan Turner               NaN\n",
      "Jake Layman               NaN\n",
      "Maurice Harkless          NaN\n",
      "Seth Curry                NaN\n",
      "Rodney Hood               NaN\n",
      "James Harden              NaN\n",
      "Iman Shumpert             NaN\n",
      "Eric Gordon               NaN\n",
      "Chris Paul                NaN\n",
      "Gerald Green              NaN\n",
      "Danuel House              NaN\n",
      "Austin Rivers             NaN\n",
      "Ricky Rubio               NaN\n",
      "Jae Crowder               NaN\n",
      "Donovan Mitchell          NaN\n",
      "                           ..\n",
      "Jabari Parker             NaN\n",
      "Chasson Randle            NaN\n",
      "Kent Bazemore             NaN\n",
      "Taurean Prince            NaN\n",
      "DeAndre' Bembry           NaN\n",
      "Trae Young                NaN\n",
      "Kevin Huerter             NaN\n",
      "Vince Carter              NaN\n",
      "Timothe Luwawu-Cabarrot   NaN\n",
      "Kris Dunn                 NaN\n",
      "Wayne Selden              NaN\n",
      "Chandler Hutchison        NaN\n",
      "Zach LaVine               NaN\n",
      "Antonio Blakeney          NaN\n",
      "Ryan Arcidiacono          NaN\n",
      "Shaquille Harrison        NaN\n",
      "Brandon Knight            NaN\n",
      "Jordan Clarkson           NaN\n",
      "Matthew Dellavedova       NaN\n",
      "Cedi Osman                NaN\n",
      "Collin Sexton             NaN\n",
      "David Nwaba               NaN\n",
      "Nik Stauskas              NaN\n",
      "Emmanuel Mudiay           NaN\n",
      "Frank Ntilikina           NaN\n",
      "Dennis Smith Jr.          NaN\n",
      "Damyean Dotson            NaN\n",
      "Kevin Knox                NaN\n",
      "Mario Hezonja             NaN\n",
      "Allonzo Trier             NaN\n",
      "Name: pct_5, Length: 218, dtype: float64\n",
      "------------------------------------------------------------\n",
      "\n",
      "Variable pct_fg3a_corner has 12 missing values\n",
      "name\n",
      "Clint Capela        NaN\n",
      "Rudy Gobert         NaN\n",
      "Nerlens Noel        NaN\n",
      "Jakob Poeltl        NaN\n",
      "Ivica Zubac         NaN\n",
      "Kosta Koufos        NaN\n",
      "Richaun Holmes      NaN\n",
      "Bismack Biyombo     NaN\n",
      "Tristan Thompson    NaN\n",
      "Ante Zizic          NaN\n",
      "DeAndre Jordan      NaN\n",
      "Mitchell Robinson   NaN\n",
      "Name: pct_fg3a_corner, dtype: float64\n",
      "------------------------------------------------------------\n",
      "\n"
     ]
    }
   ],
   "source": [
    "for column in player_db.columns:\n",
    "    if player_db[column].isnull().sum() > 0:\n",
    "        print(f'Variable {column} has {str(player_db[column].isnull().sum())} missing values')\n",
    "        print(player_db[column][player_db[column].isnull()])\n",
    "        print('-'*60 + '\\n')"
   ]
  },
  {
   "cell_type": "markdown",
   "metadata": {},
   "source": [
    "It seems like the vast majority of the missing data is due to 'pct1' through 'pct5' representing the porption of time each player spent at each position, 1-5. Most players will play only 1 or 2 positions so this makes sense. \n",
    "\n",
    "We could imput these values with 0, but in all honesty, I don't think these columns ought to be included; the point is to see the movement away from the 5 traditional roles."
   ]
  },
  {
   "cell_type": "code",
   "execution_count": 291,
   "metadata": {
    "scrolled": true
   },
   "outputs": [],
   "source": [
    "X.fillna(0,inplace=True)"
   ]
  },
  {
   "cell_type": "markdown",
   "metadata": {},
   "source": [
    "---\n",
    "# Data Preprocessing"
   ]
  },
  {
   "cell_type": "code",
   "execution_count": 292,
   "metadata": {},
   "outputs": [],
   "source": [
    "remove_cols = [\n",
    "    'bpm-dum','ws-dum','url','name','g','gs',\n",
    "    'mp','mp_per_g','ws','ws_per_48','per','dws','ows',\n",
    "    'vorp','plus_minus_net','plus_minus_on'\n",
    "]\n",
    "cols = [column for column in player_db.columns if column not in remove_cols]\n",
    "X = player_db[cols]"
   ]
  },
  {
   "cell_type": "markdown",
   "metadata": {},
   "source": [
    "I've taken a step to remove any dummy columns, string columns, and stats that are largely affected by team performance, composition and overall player talent or skill level. It wouldn't be very useful to say \"This is the good players cluster, because they played the most minutes and scored the most points\". The purpose of this analysis is to identify the types of players based on the actions they take and, to an extent, how well they perform those actions. That being said, stats like Player Efficiency Rating (PER), Value Over Replacement Player (VORP) and Win Shares have large team components, which we want to exclude.\n",
    "\n",
    "The remaining stats can generally be categorized into rate stats and counting stats. Rate stats, for example \"the percentage of this player's shots coming from 3pt range\" and \"what percentage is this player hitting 3pt shots\", are not very dependent on how many minutes the player has played. An excellent shooter who plays 10 minutes a game will likely have a similar 3pt percentage as an excellent shooter who plays 25 minutes a game, but differently from a poor shooter who plays 25 minutes or even 35 minutes per game.\n",
    "\n",
    "To further remove the component of team composition, and how much or how well players are used, we want to control for the effects that the number of minutes played will affect player stats. Continuing the above analogy, an excellent shooter of the bench may only make one or two three pointers a game, but perhaps do so on maybe 3 shots. While an excellent shooter may make four or five three pointers a game on nine to ten shots, for a comparable percentage, it would be an error to cluster the sniper on the bench with a star who hits a couple threes a game on 8 attempts. We therefore will normalize player performance to per-36-minute, per-game productivity, a convention in basketball analytics.\n",
    "\n",
    "(Noted, this could easily be solved by scraping the Per-36 table from basketball-reference.com but time limitations)\n",
    "\n",
    "Another common way to normalize data for comparisons across NBA players is to adjust for the pace at which the game is played - \"For every 100 posessions, how many times does this player perform this action?\". However, the average pace of play in the NBA this year is exactly 100, with the Atlanta Hawks topping out at 103.9 possessions per 48 minutes, and the Cleveland Cavaliers at the bottom with 96.6 possessions per 48. For comparisons, these numbers were 97.3, 100.5 and 94.9 respectively in 2018, and 96.4,101.3 and 91.6 respectively in 2017. For these reasons, I will be normalizing to per-36 minute productivity rather than per 100 possessions. That being said, further analysis across years would likely need to factor in the effects of pace."
   ]
  },
  {
   "cell_type": "code",
   "execution_count": 293,
   "metadata": {
    "scrolled": true
   },
   "outputs": [
    {
     "name": "stdout",
     "output_type": "stream",
     "text": [
      "<class 'pandas.core.frame.DataFrame'>\n",
      "Index: 354 entries, Klay Thompson to Noah Vonleh\n",
      "Data columns (total 69 columns):\n",
      "and1s               354 non-null float64\n",
      "ast_pct             354 non-null float64\n",
      "ast_per_g           354 non-null float64\n",
      "astd_pts            354 non-null float64\n",
      "avg_dist            354 non-null float64\n",
      "blk_pct             354 non-null float64\n",
      "blk_per_g           354 non-null float64\n",
      "bpm                 354 non-null float64\n",
      "dbpm                354 non-null float64\n",
      "drawn_offensive     354 non-null float64\n",
      "drawn_shooting      354 non-null float64\n",
      "drb_pct             354 non-null float64\n",
      "drb_per_g           354 non-null float64\n",
      "efg_pct             354 non-null float64\n",
      "fg2_dunk            354 non-null float64\n",
      "fg2_pct             354 non-null float64\n",
      "fg2_pct_ast         354 non-null float64\n",
      "fg2_per_g           354 non-null float64\n",
      "fg2a_pct_fga        354 non-null float64\n",
      "fg2a_per_g          354 non-null float64\n",
      "fg3_heave           354 non-null float64\n",
      "fg3_pct             342 non-null float64\n",
      "fg3_pct_ast         329 non-null float64\n",
      "fg3_pct_corner      328 non-null float64\n",
      "fg3_per_g           354 non-null float64\n",
      "fg3a_heave          354 non-null float64\n",
      "fg3a_pct_fga        354 non-null float64\n",
      "fg3a_per_fga_pct    354 non-null float64\n",
      "fg3a_per_g          354 non-null float64\n",
      "fg_pct              354 non-null float64\n",
      "fg_pct_00_03        354 non-null float64\n",
      "fg_pct_03_10        354 non-null float64\n",
      "fg_pct_10_16        353 non-null float64\n",
      "fg_pct_16_xx        351 non-null float64\n",
      "fg_per_g            354 non-null float64\n",
      "fga_per_g           354 non-null float64\n",
      "fouls_offensive     354 non-null float64\n",
      "fouls_shooting      354 non-null float64\n",
      "ft_pct              354 non-null float64\n",
      "ft_per_g            354 non-null float64\n",
      "fta_per_fga_pct     354 non-null float64\n",
      "fta_per_g           354 non-null float64\n",
      "obpm                354 non-null float64\n",
      "orb_pct             354 non-null float64\n",
      "orb_per_g           354 non-null float64\n",
      "own_shots_blk       354 non-null float64\n",
      "pct_1               137 non-null float64\n",
      "pct_2               181 non-null float64\n",
      "pct_3               186 non-null float64\n",
      "pct_4               195 non-null float64\n",
      "pct_5               136 non-null float64\n",
      "pct_fg2_dunk        354 non-null float64\n",
      "pct_fg3a_corner     342 non-null float64\n",
      "pct_fga_00_03       354 non-null float64\n",
      "pct_fga_03_10       354 non-null float64\n",
      "pct_fga_10_16       354 non-null float64\n",
      "pct_fga_16_xx       354 non-null float64\n",
      "pf_per_g            354 non-null float64\n",
      "pts_per_g           354 non-null float64\n",
      "stl_pct             354 non-null float64\n",
      "stl_per_g           354 non-null float64\n",
      "tov_bad_pass        354 non-null float64\n",
      "tov_lost_ball       354 non-null float64\n",
      "tov_pct             354 non-null float64\n",
      "tov_per_g           354 non-null float64\n",
      "trb_pct             354 non-null float64\n",
      "trb_per_g           354 non-null float64\n",
      "ts_pct              354 non-null float64\n",
      "usg_pct             354 non-null float64\n",
      "dtypes: float64(69)\n",
      "memory usage: 203.6+ KB\n"
     ]
    }
   ],
   "source": [
    "X.info()"
   ]
  },
  {
   "cell_type": "markdown",
   "metadata": {},
   "source": [
    "The first step is to identify the stats which need to be normalized to per-game stats. We normalize to per-36 performance simultaneously."
   ]
  },
  {
   "cell_type": "code",
   "execution_count": 294,
   "metadata": {},
   "outputs": [],
   "source": [
    "counting_stats = [\n",
    "    'and1s',\n",
    "    'fg3_heave',\n",
    "    'fg3a_heave',\n",
    "    'fg2_dunk',\n",
    "    'fouls_shooting',\n",
    "    'fouls_offensive',\n",
    "    'own_shots_blk',\n",
    "    'tov_bad_pass',\n",
    "    'tov_lost_ball',\n",
    "    'drawn_offensive',\n",
    "    'drawn_shooting',\n",
    "    'astd_pts',\n",
    "]"
   ]
  },
  {
   "cell_type": "code",
   "execution_count": 295,
   "metadata": {
    "scrolled": false
   },
   "outputs": [
    {
     "name": "stdout",
     "output_type": "stream",
     "text": [
      "Normalizing stats for Klay Thompson, 0/354\n"
     ]
    },
    {
     "name": "stderr",
     "output_type": "stream",
     "text": [
      "/Applications/anaconda3/lib/python3.7/site-packages/pandas/core/indexing.py:190: SettingWithCopyWarning: \n",
      "A value is trying to be set on a copy of a slice from a DataFrame\n",
      "\n",
      "See the caveats in the documentation: http://pandas.pydata.org/pandas-docs/stable/indexing.html#indexing-view-versus-copy\n",
      "  self._setitem_with_indexer(indexer, value)\n",
      "/Applications/anaconda3/lib/python3.7/site-packages/ipykernel_launcher.py:6: SettingWithCopyWarning: \n",
      "A value is trying to be set on a copy of a slice from a DataFrame\n",
      "\n",
      "See the caveats in the documentation: http://pandas.pydata.org/pandas-docs/stable/indexing.html#indexing-view-versus-copy\n",
      "  \n"
     ]
    },
    {
     "name": "stdout",
     "output_type": "stream",
     "text": [
      "Normalizing stats for James Harden, 35/354\n",
      "Normalizing stats for DeMar DeRozan, 70/354\n",
      "Normalizing stats for Josh Hart, 105/354\n",
      "Normalizing stats for Bruno Caboclo, 140/354\n",
      "Normalizing stats for Elie Okobo, 175/354\n",
      "Normalizing stats for Mike Scott, 210/354\n",
      "Normalizing stats for Rodions Kurucs, 245/354\n",
      "Normalizing stats for Willy Hernangomez, 280/354\n",
      "Normalizing stats for Omari Spellman, 315/354\n",
      "Normalizing stats for Luke Kornet, 350/354\n",
      "All done!\n"
     ]
    }
   ],
   "source": [
    "temp = X[counting_stats]\n",
    "for i,player in enumerate(temp.index):\n",
    "    if i%round(len(temp.index)/10) == 0:\n",
    "        print(f'Normalizing stats for {player}, {i}/{len(temp.index)}')\n",
    "    # counting stats * 36 / total minutes. Total minutes is equivalent to games times minutes per game.\n",
    "    temp.loc[player] = temp.loc[player] * 36 / player_db['mp'].loc[player]\n",
    "print('All done!')"
   ]
  },
  {
   "cell_type": "code",
   "execution_count": 296,
   "metadata": {},
   "outputs": [
    {
     "name": "stderr",
     "output_type": "stream",
     "text": [
      "/Applications/anaconda3/lib/python3.7/site-packages/pandas/core/frame.py:3391: SettingWithCopyWarning: \n",
      "A value is trying to be set on a copy of a slice from a DataFrame.\n",
      "Try using .loc[row_indexer,col_indexer] = value instead\n",
      "\n",
      "See the caveats in the documentation: http://pandas.pydata.org/pandas-docs/stable/indexing.html#indexing-view-versus-copy\n",
      "  self[k1] = value[k2]\n"
     ]
    }
   ],
   "source": [
    "X[counting_stats]=temp"
   ]
  },
  {
   "cell_type": "markdown",
   "metadata": {},
   "source": [
    "Now we normalize the other per-game stats to per-36 minute stats"
   ]
  },
  {
   "cell_type": "code",
   "execution_count": 297,
   "metadata": {
    "scrolled": false
   },
   "outputs": [],
   "source": [
    "per_game_counting_stats = [\n",
    "    'fg_per_g',\n",
    "    'fga_per_g',\n",
    "    'fg3_per_g',\n",
    "    'fg3a_per_g',\n",
    "    'fg2_per_g',\n",
    "    'fg2a_per_g',\n",
    "    'ft_per_g',\n",
    "    'fta_per_g',\n",
    "    'orb_per_g',\n",
    "    'drb_per_g',\n",
    "    'trb_per_g',\n",
    "    'ast_per_g',\n",
    "    'stl_per_g',\n",
    "    'blk_per_g',\n",
    "    'tov_per_g',\n",
    "    'pf_per_g',\n",
    "    'pts_per_g',\n",
    "]"
   ]
  },
  {
   "cell_type": "code",
   "execution_count": 298,
   "metadata": {},
   "outputs": [
    {
     "name": "stdout",
     "output_type": "stream",
     "text": [
      "Normalizing stats for Klay Thompson, 0/354\n"
     ]
    },
    {
     "name": "stderr",
     "output_type": "stream",
     "text": [
      "/Applications/anaconda3/lib/python3.7/site-packages/ipykernel_launcher.py:5: SettingWithCopyWarning: \n",
      "A value is trying to be set on a copy of a slice from a DataFrame\n",
      "\n",
      "See the caveats in the documentation: http://pandas.pydata.org/pandas-docs/stable/indexing.html#indexing-view-versus-copy\n",
      "  \"\"\"\n"
     ]
    },
    {
     "name": "stdout",
     "output_type": "stream",
     "text": [
      "Normalizing stats for James Harden, 35/354\n",
      "Normalizing stats for DeMar DeRozan, 70/354\n",
      "Normalizing stats for Josh Hart, 105/354\n",
      "Normalizing stats for Bruno Caboclo, 140/354\n",
      "Normalizing stats for Elie Okobo, 175/354\n",
      "Normalizing stats for Mike Scott, 210/354\n",
      "Normalizing stats for Rodions Kurucs, 245/354\n",
      "Normalizing stats for Willy Hernangomez, 280/354\n",
      "Normalizing stats for Omari Spellman, 315/354\n",
      "Normalizing stats for Luke Kornet, 350/354\n",
      "All done!\n"
     ]
    }
   ],
   "source": [
    "temp = player_db[per_game_counting_stats]\n",
    "for i,player in enumerate(temp.index):\n",
    "    if i%round(len(temp.index)/10) == 0:\n",
    "        print(f'Normalizing stats for {player}, {i}/{len(temp.index)}')\n",
    "    temp.loc[player] = temp.loc[player] * 36 / player_db['mp_per_g'].loc[player]\n",
    "print('All done!')"
   ]
  },
  {
   "cell_type": "code",
   "execution_count": 299,
   "metadata": {
    "scrolled": true
   },
   "outputs": [],
   "source": [
    "X[per_game_counting_stats]=temp"
   ]
  },
  {
   "cell_type": "markdown",
   "metadata": {},
   "source": [
    "Let's take a final look at our data, and see if theres anything that stands out as obviously wrong."
   ]
  },
  {
   "cell_type": "code",
   "execution_count": 300,
   "metadata": {
    "scrolled": true
   },
   "outputs": [
    {
     "data": {
      "text/html": [
       "<div>\n",
       "<style scoped>\n",
       "    .dataframe tbody tr th:only-of-type {\n",
       "        vertical-align: middle;\n",
       "    }\n",
       "\n",
       "    .dataframe tbody tr th {\n",
       "        vertical-align: top;\n",
       "    }\n",
       "\n",
       "    .dataframe thead th {\n",
       "        text-align: right;\n",
       "    }\n",
       "</style>\n",
       "<table border=\"1\" class=\"dataframe\">\n",
       "  <thead>\n",
       "    <tr style=\"text-align: right;\">\n",
       "      <th></th>\n",
       "      <th>mean</th>\n",
       "      <th>std</th>\n",
       "      <th>min</th>\n",
       "      <th>50%</th>\n",
       "      <th>max</th>\n",
       "    </tr>\n",
       "  </thead>\n",
       "  <tbody>\n",
       "    <tr>\n",
       "      <th>fg3_heave</th>\n",
       "      <td>0.000673</td>\n",
       "      <td>0.003554</td>\n",
       "      <td>0.000000</td>\n",
       "      <td>0.000000</td>\n",
       "      <td>0.029557</td>\n",
       "    </tr>\n",
       "    <tr>\n",
       "      <th>fg3a_heave</th>\n",
       "      <td>0.029142</td>\n",
       "      <td>0.039501</td>\n",
       "      <td>0.000000</td>\n",
       "      <td>0.016838</td>\n",
       "      <td>0.266272</td>\n",
       "    </tr>\n",
       "    <tr>\n",
       "      <th>ts_pct</th>\n",
       "      <td>0.555822</td>\n",
       "      <td>0.047358</td>\n",
       "      <td>0.417000</td>\n",
       "      <td>0.555500</td>\n",
       "      <td>0.692000</td>\n",
       "    </tr>\n",
       "    <tr>\n",
       "      <th>efg_pct</th>\n",
       "      <td>0.524237</td>\n",
       "      <td>0.048831</td>\n",
       "      <td>0.395000</td>\n",
       "      <td>0.522000</td>\n",
       "      <td>0.694000</td>\n",
       "    </tr>\n",
       "    <tr>\n",
       "      <th>pct_fga_10_16</th>\n",
       "      <td>0.087395</td>\n",
       "      <td>0.055394</td>\n",
       "      <td>0.000000</td>\n",
       "      <td>0.079000</td>\n",
       "      <td>0.419000</td>\n",
       "    </tr>\n",
       "    <tr>\n",
       "      <th>pct_fga_16_xx</th>\n",
       "      <td>0.082729</td>\n",
       "      <td>0.061238</td>\n",
       "      <td>0.000000</td>\n",
       "      <td>0.071500</td>\n",
       "      <td>0.307000</td>\n",
       "    </tr>\n",
       "    <tr>\n",
       "      <th>fg2_pct</th>\n",
       "      <td>0.514867</td>\n",
       "      <td>0.063115</td>\n",
       "      <td>0.265000</td>\n",
       "      <td>0.511000</td>\n",
       "      <td>0.699000</td>\n",
       "    </tr>\n",
       "    <tr>\n",
       "      <th>fg_pct</th>\n",
       "      <td>0.460181</td>\n",
       "      <td>0.064209</td>\n",
       "      <td>0.303000</td>\n",
       "      <td>0.446000</td>\n",
       "      <td>0.694000</td>\n",
       "    </tr>\n",
       "    <tr>\n",
       "      <th>fg_pct_00_03</th>\n",
       "      <td>0.646119</td>\n",
       "      <td>0.073649</td>\n",
       "      <td>0.296000</td>\n",
       "      <td>0.648500</td>\n",
       "      <td>0.889000</td>\n",
       "    </tr>\n",
       "    <tr>\n",
       "      <th>pct_fga_03_10</th>\n",
       "      <td>0.160234</td>\n",
       "      <td>0.079629</td>\n",
       "      <td>0.020000</td>\n",
       "      <td>0.144000</td>\n",
       "      <td>0.503000</td>\n",
       "    </tr>\n",
       "    <tr>\n",
       "      <th>pct_fg2_dunk</th>\n",
       "      <td>0.065274</td>\n",
       "      <td>0.083583</td>\n",
       "      <td>0.000000</td>\n",
       "      <td>0.036500</td>\n",
       "      <td>0.526000</td>\n",
       "    </tr>\n",
       "    <tr>\n",
       "      <th>fg_pct_03_10</th>\n",
       "      <td>0.376514</td>\n",
       "      <td>0.087173</td>\n",
       "      <td>0.000000</td>\n",
       "      <td>0.383500</td>\n",
       "      <td>0.596000</td>\n",
       "    </tr>\n",
       "    <tr>\n",
       "      <th>fg3_pct</th>\n",
       "      <td>0.326816</td>\n",
       "      <td>0.088950</td>\n",
       "      <td>0.000000</td>\n",
       "      <td>0.344000</td>\n",
       "      <td>0.529000</td>\n",
       "    </tr>\n",
       "    <tr>\n",
       "      <th>ft_pct</th>\n",
       "      <td>0.755870</td>\n",
       "      <td>0.093261</td>\n",
       "      <td>0.417000</td>\n",
       "      <td>0.769500</td>\n",
       "      <td>1.000000</td>\n",
       "    </tr>\n",
       "    <tr>\n",
       "      <th>fta_per_fga_pct</th>\n",
       "      <td>0.251169</td>\n",
       "      <td>0.115524</td>\n",
       "      <td>0.046000</td>\n",
       "      <td>0.230000</td>\n",
       "      <td>0.879000</td>\n",
       "    </tr>\n",
       "    <tr>\n",
       "      <th>fg3_pct_corner</th>\n",
       "      <td>0.357543</td>\n",
       "      <td>0.125347</td>\n",
       "      <td>0.000000</td>\n",
       "      <td>0.370000</td>\n",
       "      <td>1.000000</td>\n",
       "    </tr>\n",
       "    <tr>\n",
       "      <th>fg_pct_10_16</th>\n",
       "      <td>0.384057</td>\n",
       "      <td>0.125767</td>\n",
       "      <td>0.000000</td>\n",
       "      <td>0.400000</td>\n",
       "      <td>1.000000</td>\n",
       "    </tr>\n",
       "    <tr>\n",
       "      <th>fg_pct_16_xx</th>\n",
       "      <td>0.369182</td>\n",
       "      <td>0.150238</td>\n",
       "      <td>0.000000</td>\n",
       "      <td>0.375000</td>\n",
       "      <td>1.000000</td>\n",
       "    </tr>\n",
       "    <tr>\n",
       "      <th>fg3_pct_ast</th>\n",
       "      <td>0.864033</td>\n",
       "      <td>0.153189</td>\n",
       "      <td>0.161000</td>\n",
       "      <td>0.921000</td>\n",
       "      <td>1.000000</td>\n",
       "    </tr>\n",
       "    <tr>\n",
       "      <th>pct_fg3a_corner</th>\n",
       "      <td>0.234813</td>\n",
       "      <td>0.153504</td>\n",
       "      <td>0.000000</td>\n",
       "      <td>0.206000</td>\n",
       "      <td>0.867000</td>\n",
       "    </tr>\n",
       "    <tr>\n",
       "      <th>pct_fga_00_03</th>\n",
       "      <td>0.305952</td>\n",
       "      <td>0.159070</td>\n",
       "      <td>0.011000</td>\n",
       "      <td>0.271000</td>\n",
       "      <td>0.904000</td>\n",
       "    </tr>\n",
       "    <tr>\n",
       "      <th>fg2_pct_ast</th>\n",
       "      <td>0.540325</td>\n",
       "      <td>0.193968</td>\n",
       "      <td>0.057000</td>\n",
       "      <td>0.568000</td>\n",
       "      <td>0.921000</td>\n",
       "    </tr>\n",
       "    <tr>\n",
       "      <th>fg3a_per_fga_pct</th>\n",
       "      <td>0.363678</td>\n",
       "      <td>0.198729</td>\n",
       "      <td>0.000000</td>\n",
       "      <td>0.378500</td>\n",
       "      <td>0.914000</td>\n",
       "    </tr>\n",
       "    <tr>\n",
       "      <th>fg3a_pct_fga</th>\n",
       "      <td>0.363678</td>\n",
       "      <td>0.198729</td>\n",
       "      <td>0.000000</td>\n",
       "      <td>0.378500</td>\n",
       "      <td>0.914000</td>\n",
       "    </tr>\n",
       "    <tr>\n",
       "      <th>fg2a_pct_fga</th>\n",
       "      <td>0.636325</td>\n",
       "      <td>0.198730</td>\n",
       "      <td>0.086000</td>\n",
       "      <td>0.621500</td>\n",
       "      <td>1.000000</td>\n",
       "    </tr>\n",
       "    <tr>\n",
       "      <th>fouls_offensive</th>\n",
       "      <td>0.273359</td>\n",
       "      <td>0.198886</td>\n",
       "      <td>0.000000</td>\n",
       "      <td>0.219228</td>\n",
       "      <td>1.107062</td>\n",
       "    </tr>\n",
       "    <tr>\n",
       "      <th>drawn_offensive</th>\n",
       "      <td>0.269655</td>\n",
       "      <td>0.210780</td>\n",
       "      <td>0.000000</td>\n",
       "      <td>0.218847</td>\n",
       "      <td>1.754671</td>\n",
       "    </tr>\n",
       "    <tr>\n",
       "      <th>and1s</th>\n",
       "      <td>0.334460</td>\n",
       "      <td>0.220879</td>\n",
       "      <td>0.000000</td>\n",
       "      <td>0.287872</td>\n",
       "      <td>1.572519</td>\n",
       "    </tr>\n",
       "    <tr>\n",
       "      <th>tov_lost_ball</th>\n",
       "      <td>0.485362</td>\n",
       "      <td>0.236013</td>\n",
       "      <td>0.056162</td>\n",
       "      <td>0.459411</td>\n",
       "      <td>1.356121</td>\n",
       "    </tr>\n",
       "    <tr>\n",
       "      <th>own_shots_blk</th>\n",
       "      <td>0.725166</td>\n",
       "      <td>0.342250</td>\n",
       "      <td>0.090566</td>\n",
       "      <td>0.676598</td>\n",
       "      <td>1.834395</td>\n",
       "    </tr>\n",
       "    <tr>\n",
       "      <th>...</th>\n",
       "      <td>...</td>\n",
       "      <td>...</td>\n",
       "      <td>...</td>\n",
       "      <td>...</td>\n",
       "      <td>...</td>\n",
       "    </tr>\n",
       "    <tr>\n",
       "      <th>fg3_per_g</th>\n",
       "      <td>1.632636</td>\n",
       "      <td>0.986034</td>\n",
       "      <td>0.000000</td>\n",
       "      <td>1.698113</td>\n",
       "      <td>5.431953</td>\n",
       "    </tr>\n",
       "    <tr>\n",
       "      <th>orb_per_g</th>\n",
       "      <td>1.588386</td>\n",
       "      <td>1.242410</td>\n",
       "      <td>0.188482</td>\n",
       "      <td>1.072756</td>\n",
       "      <td>5.802985</td>\n",
       "    </tr>\n",
       "    <tr>\n",
       "      <th>ft_per_g</th>\n",
       "      <td>2.470004</td>\n",
       "      <td>1.428275</td>\n",
       "      <td>0.285714</td>\n",
       "      <td>2.150896</td>\n",
       "      <td>9.489130</td>\n",
       "    </tr>\n",
       "    <tr>\n",
       "      <th>blk_pct</th>\n",
       "      <td>1.763559</td>\n",
       "      <td>1.499348</td>\n",
       "      <td>0.000000</td>\n",
       "      <td>1.300000</td>\n",
       "      <td>10.000000</td>\n",
       "    </tr>\n",
       "    <tr>\n",
       "      <th>fg_per_g</th>\n",
       "      <td>5.900025</td>\n",
       "      <td>1.718500</td>\n",
       "      <td>2.490566</td>\n",
       "      <td>5.613423</td>\n",
       "      <td>10.975610</td>\n",
       "    </tr>\n",
       "    <tr>\n",
       "      <th>dbpm</th>\n",
       "      <td>-0.047458</td>\n",
       "      <td>1.769719</td>\n",
       "      <td>-4.100000</td>\n",
       "      <td>-0.200000</td>\n",
       "      <td>5.500000</td>\n",
       "    </tr>\n",
       "    <tr>\n",
       "      <th>fta_per_g</th>\n",
       "      <td>3.257999</td>\n",
       "      <td>1.777044</td>\n",
       "      <td>0.285714</td>\n",
       "      <td>2.942728</td>\n",
       "      <td>10.789318</td>\n",
       "    </tr>\n",
       "    <tr>\n",
       "      <th>fg2_per_g</th>\n",
       "      <td>4.268916</td>\n",
       "      <td>1.925565</td>\n",
       "      <td>0.571429</td>\n",
       "      <td>4.046898</td>\n",
       "      <td>10.207317</td>\n",
       "    </tr>\n",
       "    <tr>\n",
       "      <th>ast_per_g</th>\n",
       "      <td>3.524221</td>\n",
       "      <td>2.056856</td>\n",
       "      <td>0.891089</td>\n",
       "      <td>2.805453</td>\n",
       "      <td>10.700000</td>\n",
       "    </tr>\n",
       "    <tr>\n",
       "      <th>drb_per_g</th>\n",
       "      <td>5.194250</td>\n",
       "      <td>2.099702</td>\n",
       "      <td>2.068966</td>\n",
       "      <td>4.740293</td>\n",
       "      <td>12.441176</td>\n",
       "    </tr>\n",
       "    <tr>\n",
       "      <th>obpm</th>\n",
       "      <td>-0.333333</td>\n",
       "      <td>2.152189</td>\n",
       "      <td>-5.500000</td>\n",
       "      <td>-0.500000</td>\n",
       "      <td>10.500000</td>\n",
       "    </tr>\n",
       "    <tr>\n",
       "      <th>fg3a_per_g</th>\n",
       "      <td>4.620293</td>\n",
       "      <td>2.569687</td>\n",
       "      <td>0.000000</td>\n",
       "      <td>4.798822</td>\n",
       "      <td>12.913043</td>\n",
       "    </tr>\n",
       "    <tr>\n",
       "      <th>bpm</th>\n",
       "      <td>-0.386441</td>\n",
       "      <td>2.891550</td>\n",
       "      <td>-8.400000</td>\n",
       "      <td>-0.700000</td>\n",
       "      <td>11.700000</td>\n",
       "    </tr>\n",
       "    <tr>\n",
       "      <th>trb_per_g</th>\n",
       "      <td>6.778387</td>\n",
       "      <td>3.126519</td>\n",
       "      <td>2.476190</td>\n",
       "      <td>5.973626</td>\n",
       "      <td>17.459227</td>\n",
       "    </tr>\n",
       "    <tr>\n",
       "      <th>tov_pct</th>\n",
       "      <td>11.986158</td>\n",
       "      <td>3.363755</td>\n",
       "      <td>3.700000</td>\n",
       "      <td>11.500000</td>\n",
       "      <td>26.800000</td>\n",
       "    </tr>\n",
       "    <tr>\n",
       "      <th>fg2a_per_g</th>\n",
       "      <td>8.234341</td>\n",
       "      <td>3.381857</td>\n",
       "      <td>0.857143</td>\n",
       "      <td>7.909104</td>\n",
       "      <td>17.132530</td>\n",
       "    </tr>\n",
       "    <tr>\n",
       "      <th>fga_per_g</th>\n",
       "      <td>12.852238</td>\n",
       "      <td>3.412999</td>\n",
       "      <td>4.075472</td>\n",
       "      <td>12.350533</td>\n",
       "      <td>23.967391</td>\n",
       "    </tr>\n",
       "    <tr>\n",
       "      <th>orb_pct</th>\n",
       "      <td>4.718927</td>\n",
       "      <td>3.680968</td>\n",
       "      <td>0.700000</td>\n",
       "      <td>3.200000</td>\n",
       "      <td>16.800000</td>\n",
       "    </tr>\n",
       "    <tr>\n",
       "      <th>avg_dist</th>\n",
       "      <td>13.365819</td>\n",
       "      <td>4.606657</td>\n",
       "      <td>1.500000</td>\n",
       "      <td>13.950000</td>\n",
       "      <td>23.500000</td>\n",
       "    </tr>\n",
       "    <tr>\n",
       "      <th>trb_pct</th>\n",
       "      <td>10.079379</td>\n",
       "      <td>4.633154</td>\n",
       "      <td>3.800000</td>\n",
       "      <td>8.800000</td>\n",
       "      <td>25.900000</td>\n",
       "    </tr>\n",
       "    <tr>\n",
       "      <th>pts_per_g</th>\n",
       "      <td>15.899922</td>\n",
       "      <td>4.726431</td>\n",
       "      <td>6.418605</td>\n",
       "      <td>15.153061</td>\n",
       "      <td>35.315217</td>\n",
       "    </tr>\n",
       "    <tr>\n",
       "      <th>astd_pts</th>\n",
       "      <td>8.373417</td>\n",
       "      <td>4.842878</td>\n",
       "      <td>2.197059</td>\n",
       "      <td>6.675639</td>\n",
       "      <td>25.487452</td>\n",
       "    </tr>\n",
       "    <tr>\n",
       "      <th>usg_pct</th>\n",
       "      <td>19.212994</td>\n",
       "      <td>5.268394</td>\n",
       "      <td>8.500000</td>\n",
       "      <td>18.100000</td>\n",
       "      <td>40.500000</td>\n",
       "    </tr>\n",
       "    <tr>\n",
       "      <th>drb_pct</th>\n",
       "      <td>15.444915</td>\n",
       "      <td>6.235623</td>\n",
       "      <td>6.000000</td>\n",
       "      <td>14.100000</td>\n",
       "      <td>40.000000</td>\n",
       "    </tr>\n",
       "    <tr>\n",
       "      <th>ast_pct</th>\n",
       "      <td>14.498870</td>\n",
       "      <td>8.818375</td>\n",
       "      <td>3.800000</td>\n",
       "      <td>11.550000</td>\n",
       "      <td>47.500000</td>\n",
       "    </tr>\n",
       "    <tr>\n",
       "      <th>pct_3</th>\n",
       "      <td>37.080645</td>\n",
       "      <td>28.115571</td>\n",
       "      <td>1.000000</td>\n",
       "      <td>34.000000</td>\n",
       "      <td>96.000000</td>\n",
       "    </tr>\n",
       "    <tr>\n",
       "      <th>pct_2</th>\n",
       "      <td>36.690608</td>\n",
       "      <td>28.808629</td>\n",
       "      <td>1.000000</td>\n",
       "      <td>34.000000</td>\n",
       "      <td>93.000000</td>\n",
       "    </tr>\n",
       "    <tr>\n",
       "      <th>pct_4</th>\n",
       "      <td>37.317949</td>\n",
       "      <td>33.376352</td>\n",
       "      <td>1.000000</td>\n",
       "      <td>30.000000</td>\n",
       "      <td>100.000000</td>\n",
       "    </tr>\n",
       "    <tr>\n",
       "      <th>pct_1</th>\n",
       "      <td>51.481752</td>\n",
       "      <td>40.240290</td>\n",
       "      <td>1.000000</td>\n",
       "      <td>55.000000</td>\n",
       "      <td>100.000000</td>\n",
       "    </tr>\n",
       "    <tr>\n",
       "      <th>pct_5</th>\n",
       "      <td>55.610294</td>\n",
       "      <td>41.909103</td>\n",
       "      <td>1.000000</td>\n",
       "      <td>57.000000</td>\n",
       "      <td>100.000000</td>\n",
       "    </tr>\n",
       "  </tbody>\n",
       "</table>\n",
       "<p>69 rows × 5 columns</p>\n",
       "</div>"
      ],
      "text/plain": [
       "                       mean        std       min        50%         max\n",
       "fg3_heave          0.000673   0.003554  0.000000   0.000000    0.029557\n",
       "fg3a_heave         0.029142   0.039501  0.000000   0.016838    0.266272\n",
       "ts_pct             0.555822   0.047358  0.417000   0.555500    0.692000\n",
       "efg_pct            0.524237   0.048831  0.395000   0.522000    0.694000\n",
       "pct_fga_10_16      0.087395   0.055394  0.000000   0.079000    0.419000\n",
       "pct_fga_16_xx      0.082729   0.061238  0.000000   0.071500    0.307000\n",
       "fg2_pct            0.514867   0.063115  0.265000   0.511000    0.699000\n",
       "fg_pct             0.460181   0.064209  0.303000   0.446000    0.694000\n",
       "fg_pct_00_03       0.646119   0.073649  0.296000   0.648500    0.889000\n",
       "pct_fga_03_10      0.160234   0.079629  0.020000   0.144000    0.503000\n",
       "pct_fg2_dunk       0.065274   0.083583  0.000000   0.036500    0.526000\n",
       "fg_pct_03_10       0.376514   0.087173  0.000000   0.383500    0.596000\n",
       "fg3_pct            0.326816   0.088950  0.000000   0.344000    0.529000\n",
       "ft_pct             0.755870   0.093261  0.417000   0.769500    1.000000\n",
       "fta_per_fga_pct    0.251169   0.115524  0.046000   0.230000    0.879000\n",
       "fg3_pct_corner     0.357543   0.125347  0.000000   0.370000    1.000000\n",
       "fg_pct_10_16       0.384057   0.125767  0.000000   0.400000    1.000000\n",
       "fg_pct_16_xx       0.369182   0.150238  0.000000   0.375000    1.000000\n",
       "fg3_pct_ast        0.864033   0.153189  0.161000   0.921000    1.000000\n",
       "pct_fg3a_corner    0.234813   0.153504  0.000000   0.206000    0.867000\n",
       "pct_fga_00_03      0.305952   0.159070  0.011000   0.271000    0.904000\n",
       "fg2_pct_ast        0.540325   0.193968  0.057000   0.568000    0.921000\n",
       "fg3a_per_fga_pct   0.363678   0.198729  0.000000   0.378500    0.914000\n",
       "fg3a_pct_fga       0.363678   0.198729  0.000000   0.378500    0.914000\n",
       "fg2a_pct_fga       0.636325   0.198730  0.086000   0.621500    1.000000\n",
       "fouls_offensive    0.273359   0.198886  0.000000   0.219228    1.107062\n",
       "drawn_offensive    0.269655   0.210780  0.000000   0.218847    1.754671\n",
       "and1s              0.334460   0.220879  0.000000   0.287872    1.572519\n",
       "tov_lost_ball      0.485362   0.236013  0.056162   0.459411    1.356121\n",
       "own_shots_blk      0.725166   0.342250  0.090566   0.676598    1.834395\n",
       "...                     ...        ...       ...        ...         ...\n",
       "fg3_per_g          1.632636   0.986034  0.000000   1.698113    5.431953\n",
       "orb_per_g          1.588386   1.242410  0.188482   1.072756    5.802985\n",
       "ft_per_g           2.470004   1.428275  0.285714   2.150896    9.489130\n",
       "blk_pct            1.763559   1.499348  0.000000   1.300000   10.000000\n",
       "fg_per_g           5.900025   1.718500  2.490566   5.613423   10.975610\n",
       "dbpm              -0.047458   1.769719 -4.100000  -0.200000    5.500000\n",
       "fta_per_g          3.257999   1.777044  0.285714   2.942728   10.789318\n",
       "fg2_per_g          4.268916   1.925565  0.571429   4.046898   10.207317\n",
       "ast_per_g          3.524221   2.056856  0.891089   2.805453   10.700000\n",
       "drb_per_g          5.194250   2.099702  2.068966   4.740293   12.441176\n",
       "obpm              -0.333333   2.152189 -5.500000  -0.500000   10.500000\n",
       "fg3a_per_g         4.620293   2.569687  0.000000   4.798822   12.913043\n",
       "bpm               -0.386441   2.891550 -8.400000  -0.700000   11.700000\n",
       "trb_per_g          6.778387   3.126519  2.476190   5.973626   17.459227\n",
       "tov_pct           11.986158   3.363755  3.700000  11.500000   26.800000\n",
       "fg2a_per_g         8.234341   3.381857  0.857143   7.909104   17.132530\n",
       "fga_per_g         12.852238   3.412999  4.075472  12.350533   23.967391\n",
       "orb_pct            4.718927   3.680968  0.700000   3.200000   16.800000\n",
       "avg_dist          13.365819   4.606657  1.500000  13.950000   23.500000\n",
       "trb_pct           10.079379   4.633154  3.800000   8.800000   25.900000\n",
       "pts_per_g         15.899922   4.726431  6.418605  15.153061   35.315217\n",
       "astd_pts           8.373417   4.842878  2.197059   6.675639   25.487452\n",
       "usg_pct           19.212994   5.268394  8.500000  18.100000   40.500000\n",
       "drb_pct           15.444915   6.235623  6.000000  14.100000   40.000000\n",
       "ast_pct           14.498870   8.818375  3.800000  11.550000   47.500000\n",
       "pct_3             37.080645  28.115571  1.000000  34.000000   96.000000\n",
       "pct_2             36.690608  28.808629  1.000000  34.000000   93.000000\n",
       "pct_4             37.317949  33.376352  1.000000  30.000000  100.000000\n",
       "pct_1             51.481752  40.240290  1.000000  55.000000  100.000000\n",
       "pct_5             55.610294  41.909103  1.000000  57.000000  100.000000\n",
       "\n",
       "[69 rows x 5 columns]"
      ]
     },
     "execution_count": 300,
     "metadata": {},
     "output_type": "execute_result"
    }
   ],
   "source": [
    "X.describe().T[['mean','std','min','50%','max']].sort_values('std',ascending=True)"
   ]
  },
  {
   "cell_type": "markdown",
   "metadata": {},
   "source": [
    "Nothing jumps out at me. Now we apply more traditional preprocessing techniques."
   ]
  },
  {
   "cell_type": "code",
   "execution_count": 301,
   "metadata": {},
   "outputs": [],
   "source": [
    "ss = StandardScaler()\n",
    "# pt = PowerTransformer()\n",
    "# X = pt.fit_transform(X)\n",
    "X_sc = pd.DataFrame(ss.fit_transform(X),columns=cols,index=X.index)\n",
    "X_sc.fillna(0,inplace=True)"
   ]
  },
  {
   "cell_type": "markdown",
   "metadata": {},
   "source": [
    "---\n",
    "# Feature Engineering  & Feature Selection"
   ]
  },
  {
   "cell_type": "markdown",
   "metadata": {},
   "source": [
    "A general rule of thumb is that the number of columns in a dataset shouldn't exceed the square root of the number of observations. We've got a pretty dang small data set, and quite a few features."
   ]
  },
  {
   "cell_type": "code",
   "execution_count": 708,
   "metadata": {},
   "outputs": [
    {
     "data": {
      "text/plain": [
       "18"
      ]
     },
     "execution_count": 708,
     "metadata": {},
     "output_type": "execute_result"
    }
   ],
   "source": [
    "int(np.sqrt(len(X.index)))"
   ]
  },
  {
   "cell_type": "markdown",
   "metadata": {},
   "source": [
    "So we should really try to limit ourselves to 18 features to describe the vast majority of the variance in this dataset. There are a few ways I can think of to do this. \n",
    "\n",
    "Firstly, we can take the manual approach, using domain knowledge to pick features I think will perform well. \n",
    "\n",
    "Alternatively, we can look at feature variance, and their variance inflation factors. \n",
    "\n",
    "Pairwise correlation can also be a good indicator that a features represent similar information.\n",
    "\n",
    "Finally, we can try principal component analysis. \n",
    "\n",
    "Forward feature selection and backward feature elimination are also viable dimensionality reduction techniques, but in this specific example, it is difficult to know what criterion the should be for evaluating, other than perhaps the silhoutte score of a clustering algorithm trained on those feature subspaces, but the variability in those outcomes depends a lot on clustering hyperparameters, and so the grid search procedure would likely take an unreasonable amount of time and resources."
   ]
  },
  {
   "cell_type": "code",
   "execution_count": 722,
   "metadata": {
    "scrolled": false
   },
   "outputs": [
    {
     "data": {
      "image/png": "[encoded data removed]",
      "text/plain": [
       "<Figure size 1440x1440 with 1 Axes>"
      ]
     },
     "metadata": {
      "needs_background": "light"
     },
     "output_type": "display_data"
    }
   ],
   "source": [
    "plt.figure(figsize=(20,20))\n",
    "sns.heatmap(X.corr(),square=True,cbar=False)\n",
    "plt.savefig('../assets/raw_data_heatmap.png',dpi=500)"
   ]
  },
  {
   "cell_type": "markdown",
   "metadata": {},
   "source": [
    "Thats a lot of correlation. Another useful approach is feature engineering. With the degree of multicollinearity present in this dataset, it may be possible to engineer features which can either capture the same variance in lower dimensions, or perhaps capture more variance not explained by the features independently. An example of this might be the assist-to-turnover ratio."
   ]
  },
  {
   "cell_type": "markdown",
   "metadata": {},
   "source": [
    "---\n",
    "# Feature Engineering\n",
    "\n",
    "---"
   ]
  },
  {
   "cell_type": "markdown",
   "metadata": {},
   "source": [
    "### Positional Versatility\n",
    "Some players only play point guard and will have the ball in their hands a vast majority of the time, like Steph Curry. Other players will only ever play at the Center position, and will likely be the tallest player on their team. There is an argument to be made that this stat does not belong in the analysis given the position of a player depends a lot on the team's composition and roster, but at the same time the ability to play the parts of the traditional roles is a useful information that may be captured by this stat."
   ]
  },
  {
   "cell_type": "code",
   "execution_count": 599,
   "metadata": {},
   "outputs": [
    {
     "data": {
      "text/html": [
       "<div>\n",
       "<style scoped>\n",
       "    .dataframe tbody tr th:only-of-type {\n",
       "        vertical-align: middle;\n",
       "    }\n",
       "\n",
       "    .dataframe tbody tr th {\n",
       "        vertical-align: top;\n",
       "    }\n",
       "\n",
       "    .dataframe thead th {\n",
       "        text-align: right;\n",
       "    }\n",
       "</style>\n",
       "<table border=\"1\" class=\"dataframe\">\n",
       "  <thead>\n",
       "    <tr style=\"text-align: right;\">\n",
       "      <th></th>\n",
       "      <th>pct_1</th>\n",
       "      <th>pct_2</th>\n",
       "      <th>pct_3</th>\n",
       "      <th>pct_4</th>\n",
       "      <th>pct_5</th>\n",
       "    </tr>\n",
       "    <tr>\n",
       "      <th>name</th>\n",
       "      <th></th>\n",
       "      <th></th>\n",
       "      <th></th>\n",
       "      <th></th>\n",
       "      <th></th>\n",
       "    </tr>\n",
       "  </thead>\n",
       "  <tbody>\n",
       "    <tr>\n",
       "      <th>Klay Thompson</th>\n",
       "      <td>7.0</td>\n",
       "      <td>80.0</td>\n",
       "      <td>13.0</td>\n",
       "      <td>1.0</td>\n",
       "      <td>0.0</td>\n",
       "    </tr>\n",
       "    <tr>\n",
       "      <th>Draymond Green</th>\n",
       "      <td>0.0</td>\n",
       "      <td>0.0</td>\n",
       "      <td>59.0</td>\n",
       "      <td>39.0</td>\n",
       "      <td>2.0</td>\n",
       "    </tr>\n",
       "    <tr>\n",
       "      <th>Jordan Bell</th>\n",
       "      <td>0.0</td>\n",
       "      <td>0.0</td>\n",
       "      <td>0.0</td>\n",
       "      <td>14.0</td>\n",
       "      <td>86.0</td>\n",
       "    </tr>\n",
       "    <tr>\n",
       "      <th>Stephen Curry</th>\n",
       "      <td>98.0</td>\n",
       "      <td>2.0</td>\n",
       "      <td>0.0</td>\n",
       "      <td>0.0</td>\n",
       "      <td>0.0</td>\n",
       "    </tr>\n",
       "    <tr>\n",
       "      <th>Andre Iguodala</th>\n",
       "      <td>3.0</td>\n",
       "      <td>34.0</td>\n",
       "      <td>59.0</td>\n",
       "      <td>5.0</td>\n",
       "      <td>0.0</td>\n",
       "    </tr>\n",
       "  </tbody>\n",
       "</table>\n",
       "</div>"
      ],
      "text/plain": [
       "                pct_1  pct_2  pct_3  pct_4  pct_5\n",
       "name                                             \n",
       "Klay Thompson     7.0   80.0   13.0    1.0    0.0\n",
       "Draymond Green    0.0    0.0   59.0   39.0    2.0\n",
       "Jordan Bell       0.0    0.0    0.0   14.0   86.0\n",
       "Stephen Curry    98.0    2.0    0.0    0.0    0.0\n",
       "Andre Iguodala    3.0   34.0   59.0    5.0    0.0"
      ]
     },
     "execution_count": 599,
     "metadata": {},
     "output_type": "execute_result"
    }
   ],
   "source": [
    "X[['pct_1','pct_2','pct_3','pct_4','pct_5']].fillna('0').head()"
   ]
  },
  {
   "cell_type": "code",
   "execution_count": 600,
   "metadata": {
    "scrolled": true
   },
   "outputs": [
    {
     "name": "stdout",
     "output_type": "stream",
     "text": [
      "All Done!\n"
     ]
    }
   ],
   "source": [
    "temp=[]\n",
    "for player in X.index:\n",
    "    row = X.loc[player][['pct_1','pct_2','pct_3','pct_4','pct_5']]\n",
    "    rms = 1/np.sqrt(np.mean(row**2))\n",
    "    temp.append(rms)\n",
    "print('All Done!')"
   ]
  },
  {
   "cell_type": "code",
   "execution_count": 602,
   "metadata": {
    "scrolled": true
   },
   "outputs": [],
   "source": [
    "X_sc['versatility']=((temp-np.mean(temp))/np.std(temp))\n",
    "X_sc.drop(['pct_1','pct_2','pct_3','pct_4','pct_5'],axis=1,inplace=True)"
   ]
  },
  {
   "cell_type": "markdown",
   "metadata": {},
   "source": [
    "### Contesting Shots\n",
    "When a defender challenges an opponents shot, the shot either ends with a made shot, a blocked shot, a missed shot or a 'shooting foul' on the defender. I imagine the proportion of times a player blocks a shot relative to the amount of times they get called for a foul may be something of interest."
   ]
  },
  {
   "cell_type": "code",
   "execution_count": 556,
   "metadata": {
    "scrolled": true
   },
   "outputs": [
    {
     "data": {
      "text/html": [
       "<div>\n",
       "<style scoped>\n",
       "    .dataframe tbody tr th:only-of-type {\n",
       "        vertical-align: middle;\n",
       "    }\n",
       "\n",
       "    .dataframe tbody tr th {\n",
       "        vertical-align: top;\n",
       "    }\n",
       "\n",
       "    .dataframe thead th {\n",
       "        text-align: right;\n",
       "    }\n",
       "</style>\n",
       "<table border=\"1\" class=\"dataframe\">\n",
       "  <thead>\n",
       "    <tr style=\"text-align: right;\">\n",
       "      <th></th>\n",
       "      <th>fouls_shooting</th>\n",
       "      <th>blk_per_g</th>\n",
       "    </tr>\n",
       "    <tr>\n",
       "      <th>name</th>\n",
       "      <th></th>\n",
       "      <th></th>\n",
       "    </tr>\n",
       "  </thead>\n",
       "  <tbody>\n",
       "    <tr>\n",
       "      <th>Klay Thompson</th>\n",
       "      <td>0.990950</td>\n",
       "      <td>0.635294</td>\n",
       "    </tr>\n",
       "    <tr>\n",
       "      <th>Draymond Green</th>\n",
       "      <td>1.621308</td>\n",
       "      <td>1.265176</td>\n",
       "    </tr>\n",
       "    <tr>\n",
       "      <th>Jordan Bell</th>\n",
       "      <td>2.467005</td>\n",
       "      <td>2.482759</td>\n",
       "    </tr>\n",
       "    <tr>\n",
       "      <th>Stephen Curry</th>\n",
       "      <td>1.003861</td>\n",
       "      <td>0.426036</td>\n",
       "    </tr>\n",
       "    <tr>\n",
       "      <th>Andre Iguodala</th>\n",
       "      <td>1.095057</td>\n",
       "      <td>1.241379</td>\n",
       "    </tr>\n",
       "  </tbody>\n",
       "</table>\n",
       "</div>"
      ],
      "text/plain": [
       "                fouls_shooting  blk_per_g\n",
       "name                                     \n",
       "Klay Thompson         0.990950   0.635294\n",
       "Draymond Green        1.621308   1.265176\n",
       "Jordan Bell           2.467005   2.482759\n",
       "Stephen Curry         1.003861   0.426036\n",
       "Andre Iguodala        1.095057   1.241379"
      ]
     },
     "execution_count": 556,
     "metadata": {},
     "output_type": "execute_result"
    }
   ],
   "source": [
    "X[['fouls_shooting','blk_per_g']].head()"
   ]
  },
  {
   "cell_type": "code",
   "execution_count": 557,
   "metadata": {
    "scrolled": true
   },
   "outputs": [
    {
     "data": {
      "text/html": [
       "<div>\n",
       "<style scoped>\n",
       "    .dataframe tbody tr th:only-of-type {\n",
       "        vertical-align: middle;\n",
       "    }\n",
       "\n",
       "    .dataframe tbody tr th {\n",
       "        vertical-align: top;\n",
       "    }\n",
       "\n",
       "    .dataframe thead th {\n",
       "        text-align: right;\n",
       "    }\n",
       "</style>\n",
       "<table border=\"1\" class=\"dataframe\">\n",
       "  <thead>\n",
       "    <tr style=\"text-align: right;\">\n",
       "      <th></th>\n",
       "      <th>fouls_shooting</th>\n",
       "      <th>blk_per_g</th>\n",
       "    </tr>\n",
       "  </thead>\n",
       "  <tbody>\n",
       "    <tr>\n",
       "      <th>fouls_shooting</th>\n",
       "      <td>1.000000</td>\n",
       "      <td>0.577517</td>\n",
       "    </tr>\n",
       "    <tr>\n",
       "      <th>blk_per_g</th>\n",
       "      <td>0.577517</td>\n",
       "      <td>1.000000</td>\n",
       "    </tr>\n",
       "  </tbody>\n",
       "</table>\n",
       "</div>"
      ],
      "text/plain": [
       "                fouls_shooting  blk_per_g\n",
       "fouls_shooting        1.000000   0.577517\n",
       "blk_per_g             0.577517   1.000000"
      ]
     },
     "execution_count": 557,
     "metadata": {},
     "output_type": "execute_result"
    }
   ],
   "source": [
    "X[['fouls_shooting','blk_per_g']].corr()"
   ]
  },
  {
   "cell_type": "code",
   "execution_count": 558,
   "metadata": {
    "scrolled": false
   },
   "outputs": [
    {
     "data": {
      "text/html": [
       "<div>\n",
       "<style scoped>\n",
       "    .dataframe tbody tr th:only-of-type {\n",
       "        vertical-align: middle;\n",
       "    }\n",
       "\n",
       "    .dataframe tbody tr th {\n",
       "        vertical-align: top;\n",
       "    }\n",
       "\n",
       "    .dataframe thead th {\n",
       "        text-align: right;\n",
       "    }\n",
       "</style>\n",
       "<table border=\"1\" class=\"dataframe\">\n",
       "  <thead>\n",
       "    <tr style=\"text-align: right;\">\n",
       "      <th></th>\n",
       "      <th>0</th>\n",
       "      <th>1</th>\n",
       "      <th>2</th>\n",
       "    </tr>\n",
       "  </thead>\n",
       "  <tbody>\n",
       "    <tr>\n",
       "      <th>count</th>\n",
       "      <td>354.000000</td>\n",
       "      <td>354.000000</td>\n",
       "      <td>354.000000</td>\n",
       "    </tr>\n",
       "    <tr>\n",
       "      <th>mean</th>\n",
       "      <td>0.295315</td>\n",
       "      <td>0.478510</td>\n",
       "      <td>0.460152</td>\n",
       "    </tr>\n",
       "    <tr>\n",
       "      <th>std</th>\n",
       "      <td>0.134413</td>\n",
       "      <td>0.325103</td>\n",
       "      <td>0.300717</td>\n",
       "    </tr>\n",
       "    <tr>\n",
       "      <th>min</th>\n",
       "      <td>0.000000</td>\n",
       "      <td>0.000000</td>\n",
       "      <td>0.000000</td>\n",
       "    </tr>\n",
       "    <tr>\n",
       "      <th>25%</th>\n",
       "      <td>0.206982</td>\n",
       "      <td>0.261005</td>\n",
       "      <td>0.249339</td>\n",
       "    </tr>\n",
       "    <tr>\n",
       "      <th>50%</th>\n",
       "      <td>0.291225</td>\n",
       "      <td>0.410885</td>\n",
       "      <td>0.394172</td>\n",
       "    </tr>\n",
       "    <tr>\n",
       "      <th>75%</th>\n",
       "      <td>0.386569</td>\n",
       "      <td>0.630177</td>\n",
       "      <td>0.584750</td>\n",
       "    </tr>\n",
       "    <tr>\n",
       "      <th>max</th>\n",
       "      <td>0.655789</td>\n",
       "      <td>1.905195</td>\n",
       "      <td>1.952446</td>\n",
       "    </tr>\n",
       "  </tbody>\n",
       "</table>\n",
       "</div>"
      ],
      "text/plain": [
       "                0           1           2\n",
       "count  354.000000  354.000000  354.000000\n",
       "mean     0.295315    0.478510    0.460152\n",
       "std      0.134413    0.325103    0.300717\n",
       "min      0.000000    0.000000    0.000000\n",
       "25%      0.206982    0.261005    0.249339\n",
       "50%      0.291225    0.410885    0.394172\n",
       "75%      0.386569    0.630177    0.584750\n",
       "max      0.655789    1.905195    1.952446"
      ]
     },
     "execution_count": 558,
     "metadata": {},
     "output_type": "execute_result"
    }
   ],
   "source": [
    "pd.DataFrame([X['blk_per_g']/(X['fouls_shooting']+X['blk_per_g']),X['blk_per_g']/X['fouls_shooting'],(X['blk_per_g']*X['fouls_shooting'])/(X['blk_per_g']+X['fouls_shooting'])]).T.describe()"
   ]
  },
  {
   "cell_type": "code",
   "execution_count": 559,
   "metadata": {
    "scrolled": true
   },
   "outputs": [
    {
     "data": {
      "text/html": [
       "<div>\n",
       "<style scoped>\n",
       "    .dataframe tbody tr th:only-of-type {\n",
       "        vertical-align: middle;\n",
       "    }\n",
       "\n",
       "    .dataframe tbody tr th {\n",
       "        vertical-align: top;\n",
       "    }\n",
       "\n",
       "    .dataframe thead th {\n",
       "        text-align: right;\n",
       "    }\n",
       "</style>\n",
       "<table border=\"1\" class=\"dataframe\">\n",
       "  <thead>\n",
       "    <tr style=\"text-align: right;\">\n",
       "      <th></th>\n",
       "      <th>0</th>\n",
       "      <th>1</th>\n",
       "      <th>2</th>\n",
       "    </tr>\n",
       "  </thead>\n",
       "  <tbody>\n",
       "    <tr>\n",
       "      <th>0</th>\n",
       "      <td>1.000000</td>\n",
       "      <td>0.96118</td>\n",
       "      <td>0.748583</td>\n",
       "    </tr>\n",
       "    <tr>\n",
       "      <th>1</th>\n",
       "      <td>0.961180</td>\n",
       "      <td>1.00000</td>\n",
       "      <td>0.725020</td>\n",
       "    </tr>\n",
       "    <tr>\n",
       "      <th>2</th>\n",
       "      <td>0.748583</td>\n",
       "      <td>0.72502</td>\n",
       "      <td>1.000000</td>\n",
       "    </tr>\n",
       "  </tbody>\n",
       "</table>\n",
       "</div>"
      ],
      "text/plain": [
       "          0        1         2\n",
       "0  1.000000  0.96118  0.748583\n",
       "1  0.961180  1.00000  0.725020\n",
       "2  0.748583  0.72502  1.000000"
      ]
     },
     "execution_count": 559,
     "metadata": {},
     "output_type": "execute_result"
    }
   ],
   "source": [
    "pd.DataFrame([X['blk_per_g']/(X['fouls_shooting']+X['blk_per_g']),X['blk_per_g']/X['fouls_shooting'],(X['blk_per_g']*X['fouls_shooting'])/(X['blk_per_g']+X['fouls_shooting'])]).T.corr()"
   ]
  },
  {
   "cell_type": "markdown",
   "metadata": {},
   "source": [
    "Comparing blocks divided by shooting fouls with, blocks divided by the sum of the two as well as the inverse of the harmonic mean of the two is shown above. The three have a high pair-wise correlation, but I think I'll move ahead with blocks per shooting foul committed since it has a higher standard deviation, and has good interpretability."
   ]
  },
  {
   "cell_type": "code",
   "execution_count": 561,
   "metadata": {},
   "outputs": [],
   "source": [
    "temp = X['blk_per_g']/X['fouls_shooting']\n",
    "X_sc.drop(['blk_per_g','fouls_shooting','blk_pct'],axis=1,inplace=True)\n",
    "X_sc['block_rate'] = (temp-temp.mean())/temp.std()"
   ]
  },
  {
   "cell_type": "markdown",
   "metadata": {},
   "source": [
    "### Drawing Fouls and Finishing Through Contact\n",
    "Not many players are able to consistently finish a shot through a foul from their defender. This is refered to as an and-1 play since the player scores the points from their field goal attempt, and has the opportunity for one more at the freethrow line. The ability to do so at the rim indicates strength, while the ability to do so from further out is a knack that only certain players have, who are typically very good shooters. On the other hand, if the player is fouled and unable to finish the basket, they shoot two free throws. The ability to draw enough contact from defending players to force a ref to blow the whistle and send the player to the line for a few easy freethrows is a somewhat controversial aspect of the game. Perhaps the skill and/or strength required for an and-1 play can be captured by looking at the ratio of the two."
   ]
  },
  {
   "cell_type": "code",
   "execution_count": 604,
   "metadata": {},
   "outputs": [],
   "source": [
    "temp=X['and1s']/X['drawn_shooting']\n",
    "X_sc.drop(['and1s','drawn_shooting'],axis=1,inplace=True)\n",
    "X_sc['finish_through_contact'] = (temp-temp.mean()) / temp.std()"
   ]
  },
  {
   "cell_type": "code",
   "execution_count": 605,
   "metadata": {},
   "outputs": [
    {
     "data": {
      "text/html": [
       "<div>\n",
       "<style scoped>\n",
       "    .dataframe tbody tr th:only-of-type {\n",
       "        vertical-align: middle;\n",
       "    }\n",
       "\n",
       "    .dataframe tbody tr th {\n",
       "        vertical-align: top;\n",
       "    }\n",
       "\n",
       "    .dataframe thead th {\n",
       "        text-align: right;\n",
       "    }\n",
       "</style>\n",
       "<table border=\"1\" class=\"dataframe\">\n",
       "  <thead>\n",
       "    <tr style=\"text-align: right;\">\n",
       "      <th></th>\n",
       "      <th>finish_through_contact</th>\n",
       "    </tr>\n",
       "    <tr>\n",
       "      <th>name</th>\n",
       "      <th></th>\n",
       "    </tr>\n",
       "  </thead>\n",
       "  <tbody>\n",
       "    <tr>\n",
       "      <th>Gary Clark</th>\n",
       "      <td>5.084960</td>\n",
       "    </tr>\n",
       "    <tr>\n",
       "      <th>Troy Daniels</th>\n",
       "      <td>3.089034</td>\n",
       "    </tr>\n",
       "    <tr>\n",
       "      <th>Tyler Dorsey</th>\n",
       "      <td>2.849523</td>\n",
       "    </tr>\n",
       "    <tr>\n",
       "      <th>Bryn Forbes</th>\n",
       "      <td>2.789645</td>\n",
       "    </tr>\n",
       "    <tr>\n",
       "      <th>Al Horford</th>\n",
       "      <td>2.568358</td>\n",
       "    </tr>\n",
       "  </tbody>\n",
       "</table>\n",
       "</div>"
      ],
      "text/plain": [
       "              finish_through_contact\n",
       "name                                \n",
       "Gary Clark                  5.084960\n",
       "Troy Daniels                3.089034\n",
       "Tyler Dorsey                2.849523\n",
       "Bryn Forbes                 2.789645\n",
       "Al Horford                  2.568358"
      ]
     },
     "execution_count": 605,
     "metadata": {},
     "output_type": "execute_result"
    }
   ],
   "source": [
    "X_sc[['finish_through_contact']].sort_values('finish_through_contact',ascending=False).head()"
   ]
  },
  {
   "cell_type": "code",
   "execution_count": 458,
   "metadata": {},
   "outputs": [
    {
     "name": "stdout",
     "output_type": "stream",
     "text": [
      "And-1s Per 36: 0.3831728332488596\n",
      "Drawn Shooting Fouls Per 36: 0.8393309680689306\n",
      "Ratio: 0.45652173913043476\n"
     ]
    }
   ],
   "source": [
    "player = 'Al Horford'\n",
    "\n",
    "and1s = X.loc[player]['and1s']\n",
    "drawn_shooting = X.loc[player]['drawn_shooting']\n",
    "ratio = X.loc[player]['and1s']/X.loc[player]['drawn_shooting']\n",
    "print(f'And-1s Per 36: {and1s}\\nDrawn Shooting Fouls Per 36: {drawn_shooting}\\nRatio: {ratio}')"
   ]
  },
  {
   "cell_type": "markdown",
   "metadata": {},
   "source": [
    "### Drawing Charges & Offensive Fouls\n",
    "In the NBA, the offending player is just as responsible for not bulldozing the defensive player as the defensive player is responsible for not being too physical in their defense of the offensive player. In many situations, smart defenders can use the positioning of their bodies to make headstrong offensive players turn the ball over by committing fouls. It can be a sign of physicality and smarts to both recognize the opportunity to draw an offensive foul and be willing to put your body on the line and take the charge. We may be able to approximate this by examining the rate at which a player can draw offensive fouls, given by the `drawn_offensive` category as compared to the number of non-shooting fouls."
   ]
  },
  {
   "cell_type": "code",
   "execution_count": 490,
   "metadata": {
    "scrolled": true
   },
   "outputs": [],
   "source": [
    "temp = X['drawn_offensive']/(X['pf_per_g']-X['fouls_shooting']-X['fouls_offensive'])\n",
    "X_sc['charge_draw_rate'] = (temp - np.mean(temp))/np.std(temp)\n",
    "X_sc.drop(['drawn_offensive','pf_per_g','fouls_offensive'],axis=1,inplace=True)"
   ]
  },
  {
   "cell_type": "markdown",
   "metadata": {},
   "source": [
    "### Root Mean Squared Shot Distribution\n",
    "Some players are very good at dunking the basketball. Some players are 3pt aces. Some players can do a little bit of everything. We can take the root mean squared value of the percentage of a players shots that comes from different areas of the floor to try to tease apart the specialists from the generalists."
   ]
  },
  {
   "cell_type": "code",
   "execution_count": 473,
   "metadata": {},
   "outputs": [
    {
     "data": {
      "text/html": [
       "<div>\n",
       "<style scoped>\n",
       "    .dataframe tbody tr th:only-of-type {\n",
       "        vertical-align: middle;\n",
       "    }\n",
       "\n",
       "    .dataframe tbody tr th {\n",
       "        vertical-align: top;\n",
       "    }\n",
       "\n",
       "    .dataframe thead th {\n",
       "        text-align: right;\n",
       "    }\n",
       "</style>\n",
       "<table border=\"1\" class=\"dataframe\">\n",
       "  <thead>\n",
       "    <tr style=\"text-align: right;\">\n",
       "      <th></th>\n",
       "      <th>pct_fga_00_03</th>\n",
       "      <th>pct_fga_03_10</th>\n",
       "      <th>pct_fga_10_16</th>\n",
       "      <th>pct_fga_16_xx</th>\n",
       "      <th>fg3a_pct_fga</th>\n",
       "    </tr>\n",
       "    <tr>\n",
       "      <th>name</th>\n",
       "      <th></th>\n",
       "      <th></th>\n",
       "      <th></th>\n",
       "      <th></th>\n",
       "      <th></th>\n",
       "    </tr>\n",
       "  </thead>\n",
       "  <tbody>\n",
       "    <tr>\n",
       "      <th>Klay Thompson</th>\n",
       "      <td>0.138</td>\n",
       "      <td>0.073</td>\n",
       "      <td>0.148</td>\n",
       "      <td>0.215</td>\n",
       "      <td>0.427</td>\n",
       "    </tr>\n",
       "    <tr>\n",
       "      <th>Draymond Green</th>\n",
       "      <td>0.358</td>\n",
       "      <td>0.135</td>\n",
       "      <td>0.066</td>\n",
       "      <td>0.050</td>\n",
       "      <td>0.391</td>\n",
       "    </tr>\n",
       "    <tr>\n",
       "      <th>Jordan Bell</th>\n",
       "      <td>0.484</td>\n",
       "      <td>0.109</td>\n",
       "      <td>0.172</td>\n",
       "      <td>0.224</td>\n",
       "      <td>0.010</td>\n",
       "    </tr>\n",
       "    <tr>\n",
       "      <th>Stephen Curry</th>\n",
       "      <td>0.143</td>\n",
       "      <td>0.096</td>\n",
       "      <td>0.046</td>\n",
       "      <td>0.110</td>\n",
       "      <td>0.604</td>\n",
       "    </tr>\n",
       "    <tr>\n",
       "      <th>Andre Iguodala</th>\n",
       "      <td>0.344</td>\n",
       "      <td>0.050</td>\n",
       "      <td>0.056</td>\n",
       "      <td>0.073</td>\n",
       "      <td>0.477</td>\n",
       "    </tr>\n",
       "  </tbody>\n",
       "</table>\n",
       "</div>"
      ],
      "text/plain": [
       "                pct_fga_00_03  pct_fga_03_10  pct_fga_10_16  pct_fga_16_xx  \\\n",
       "name                                                                         \n",
       "Klay Thompson           0.138          0.073          0.148          0.215   \n",
       "Draymond Green          0.358          0.135          0.066          0.050   \n",
       "Jordan Bell             0.484          0.109          0.172          0.224   \n",
       "Stephen Curry           0.143          0.096          0.046          0.110   \n",
       "Andre Iguodala          0.344          0.050          0.056          0.073   \n",
       "\n",
       "                fg3a_pct_fga  \n",
       "name                          \n",
       "Klay Thompson          0.427  \n",
       "Draymond Green         0.391  \n",
       "Jordan Bell            0.010  \n",
       "Stephen Curry          0.604  \n",
       "Andre Iguodala         0.477  "
      ]
     },
     "execution_count": 473,
     "metadata": {},
     "output_type": "execute_result"
    }
   ],
   "source": [
    "X[['pct_fga_00_03','pct_fga_03_10','pct_fga_10_16','pct_fga_16_xx','fg3a_pct_fga']].fillna('0').head()"
   ]
  },
  {
   "cell_type": "code",
   "execution_count": 481,
   "metadata": {},
   "outputs": [
    {
     "name": "stdout",
     "output_type": "stream",
     "text": [
      "All Done!\n"
     ]
    }
   ],
   "source": [
    "temp=[]\n",
    "for player in X.index:\n",
    "    row = X.loc[player][['pct_fga_00_03','pct_fga_03_10','pct_fga_10_16','pct_fga_16_xx','fg3a_pct_fga']]\n",
    "    rms = np.sqrt(np.mean(row**2))\n",
    "    temp.append(rms)\n",
    "print('All Done!')"
   ]
  },
  {
   "cell_type": "code",
   "execution_count": 485,
   "metadata": {},
   "outputs": [],
   "source": [
    "X_sc['shot_distribution']=(temp-np.mean(temp))/np.std(temp)\n",
    "X_sc.drop(['pct_fga_00_03','pct_fga_03_10','pct_fga_10_16','pct_fga_16_xx','fg3a_pct_fga'],axis=1,inplace=True)"
   ]
  },
  {
   "cell_type": "markdown",
   "metadata": {},
   "source": [
    "### Root Mean Squared Shot Selection\n",
    "Continuing from the above, some players may be 3pt aces and some may not be. Some players will keep shooting threes even when they really shouldn't be. The root mean squared value of the product of a players shots from an area on the floor and the rate at which those shots go down could give a measure of how selective players are with their shots and how well they know their tendencies. It also should be noted that although the temptation is to think that a higher score, correlating to more selective and better shooting indicated better player performance, there may be a team-composition influence here in terms of how the offensive game plan generates shots for each player towards their strengths. Additionally, even okay players on bad teams will be forced to take bad shots to bail out the team's terrible defences."
   ]
  },
  {
   "cell_type": "code",
   "execution_count": 518,
   "metadata": {},
   "outputs": [
    {
     "data": {
      "text/html": [
       "<div>\n",
       "<style scoped>\n",
       "    .dataframe tbody tr th:only-of-type {\n",
       "        vertical-align: middle;\n",
       "    }\n",
       "\n",
       "    .dataframe tbody tr th {\n",
       "        vertical-align: top;\n",
       "    }\n",
       "\n",
       "    .dataframe thead th {\n",
       "        text-align: right;\n",
       "    }\n",
       "</style>\n",
       "<table border=\"1\" class=\"dataframe\">\n",
       "  <thead>\n",
       "    <tr style=\"text-align: right;\">\n",
       "      <th></th>\n",
       "      <th>pct_fga_00_03</th>\n",
       "      <th>pct_fga_03_10</th>\n",
       "      <th>pct_fga_10_16</th>\n",
       "      <th>pct_fga_16_xx</th>\n",
       "      <th>fg3a_pct_fga</th>\n",
       "    </tr>\n",
       "    <tr>\n",
       "      <th>name</th>\n",
       "      <th></th>\n",
       "      <th></th>\n",
       "      <th></th>\n",
       "      <th></th>\n",
       "      <th></th>\n",
       "    </tr>\n",
       "  </thead>\n",
       "  <tbody>\n",
       "    <tr>\n",
       "      <th>Klay Thompson</th>\n",
       "      <td>0.138</td>\n",
       "      <td>0.073</td>\n",
       "      <td>0.148</td>\n",
       "      <td>0.215</td>\n",
       "      <td>0.427</td>\n",
       "    </tr>\n",
       "    <tr>\n",
       "      <th>Draymond Green</th>\n",
       "      <td>0.358</td>\n",
       "      <td>0.135</td>\n",
       "      <td>0.066</td>\n",
       "      <td>0.050</td>\n",
       "      <td>0.391</td>\n",
       "    </tr>\n",
       "    <tr>\n",
       "      <th>Jordan Bell</th>\n",
       "      <td>0.484</td>\n",
       "      <td>0.109</td>\n",
       "      <td>0.172</td>\n",
       "      <td>0.224</td>\n",
       "      <td>0.010</td>\n",
       "    </tr>\n",
       "    <tr>\n",
       "      <th>Stephen Curry</th>\n",
       "      <td>0.143</td>\n",
       "      <td>0.096</td>\n",
       "      <td>0.046</td>\n",
       "      <td>0.110</td>\n",
       "      <td>0.604</td>\n",
       "    </tr>\n",
       "    <tr>\n",
       "      <th>Andre Iguodala</th>\n",
       "      <td>0.344</td>\n",
       "      <td>0.050</td>\n",
       "      <td>0.056</td>\n",
       "      <td>0.073</td>\n",
       "      <td>0.477</td>\n",
       "    </tr>\n",
       "  </tbody>\n",
       "</table>\n",
       "</div>"
      ],
      "text/plain": [
       "                pct_fga_00_03  pct_fga_03_10  pct_fga_10_16  pct_fga_16_xx  \\\n",
       "name                                                                         \n",
       "Klay Thompson           0.138          0.073          0.148          0.215   \n",
       "Draymond Green          0.358          0.135          0.066          0.050   \n",
       "Jordan Bell             0.484          0.109          0.172          0.224   \n",
       "Stephen Curry           0.143          0.096          0.046          0.110   \n",
       "Andre Iguodala          0.344          0.050          0.056          0.073   \n",
       "\n",
       "                fg3a_pct_fga  \n",
       "name                          \n",
       "Klay Thompson          0.427  \n",
       "Draymond Green         0.391  \n",
       "Jordan Bell            0.010  \n",
       "Stephen Curry          0.604  \n",
       "Andre Iguodala         0.477  "
      ]
     },
     "execution_count": 518,
     "metadata": {},
     "output_type": "execute_result"
    }
   ],
   "source": [
    "X[['pct_fga_00_03','pct_fga_03_10','pct_fga_10_16','pct_fga_16_xx','fg3a_pct_fga']].fillna('0').head()"
   ]
  },
  {
   "cell_type": "code",
   "execution_count": 519,
   "metadata": {
    "scrolled": false
   },
   "outputs": [
    {
     "data": {
      "text/html": [
       "<div>\n",
       "<style scoped>\n",
       "    .dataframe tbody tr th:only-of-type {\n",
       "        vertical-align: middle;\n",
       "    }\n",
       "\n",
       "    .dataframe tbody tr th {\n",
       "        vertical-align: top;\n",
       "    }\n",
       "\n",
       "    .dataframe thead th {\n",
       "        text-align: right;\n",
       "    }\n",
       "</style>\n",
       "<table border=\"1\" class=\"dataframe\">\n",
       "  <thead>\n",
       "    <tr style=\"text-align: right;\">\n",
       "      <th></th>\n",
       "      <th>fg_pct_00_03</th>\n",
       "      <th>fg_pct_03_10</th>\n",
       "      <th>fg_pct_10_16</th>\n",
       "      <th>fg_pct_16_xx</th>\n",
       "      <th>fg3_pct</th>\n",
       "    </tr>\n",
       "    <tr>\n",
       "      <th>name</th>\n",
       "      <th></th>\n",
       "      <th></th>\n",
       "      <th></th>\n",
       "      <th></th>\n",
       "      <th></th>\n",
       "    </tr>\n",
       "  </thead>\n",
       "  <tbody>\n",
       "    <tr>\n",
       "      <th>Klay Thompson</th>\n",
       "      <td>0.715</td>\n",
       "      <td>0.422</td>\n",
       "      <td>0.478</td>\n",
       "      <td>0.445</td>\n",
       "      <td>0.402</td>\n",
       "    </tr>\n",
       "    <tr>\n",
       "      <th>Draymond Green</th>\n",
       "      <td>0.702</td>\n",
       "      <td>0.316</td>\n",
       "      <td>0.393</td>\n",
       "      <td>0.286</td>\n",
       "      <td>0.285</td>\n",
       "    </tr>\n",
       "    <tr>\n",
       "      <th>Jordan Bell</th>\n",
       "      <td>0.688</td>\n",
       "      <td>0.381</td>\n",
       "      <td>0.455</td>\n",
       "      <td>0.279</td>\n",
       "      <td>0</td>\n",
       "    </tr>\n",
       "    <tr>\n",
       "      <th>Stephen Curry</th>\n",
       "      <td>0.649</td>\n",
       "      <td>0.488</td>\n",
       "      <td>0.419</td>\n",
       "      <td>0.439</td>\n",
       "      <td>0.437</td>\n",
       "    </tr>\n",
       "    <tr>\n",
       "      <th>Andre Iguodala</th>\n",
       "      <td>0.856</td>\n",
       "      <td>0.200</td>\n",
       "      <td>0.294</td>\n",
       "      <td>0.273</td>\n",
       "      <td>0.333</td>\n",
       "    </tr>\n",
       "  </tbody>\n",
       "</table>\n",
       "</div>"
      ],
      "text/plain": [
       "                fg_pct_00_03  fg_pct_03_10 fg_pct_10_16 fg_pct_16_xx fg3_pct\n",
       "name                                                                        \n",
       "Klay Thompson          0.715         0.422        0.478        0.445   0.402\n",
       "Draymond Green         0.702         0.316        0.393        0.286   0.285\n",
       "Jordan Bell            0.688         0.381        0.455        0.279       0\n",
       "Stephen Curry          0.649         0.488        0.419        0.439   0.437\n",
       "Andre Iguodala         0.856         0.200        0.294        0.273   0.333"
      ]
     },
     "execution_count": 519,
     "metadata": {},
     "output_type": "execute_result"
    }
   ],
   "source": [
    "X[['fg_pct_00_03','fg_pct_03_10', 'fg_pct_10_16', 'fg_pct_16_xx','fg3_pct']].fillna('0').head()"
   ]
  },
  {
   "cell_type": "code",
   "execution_count": 542,
   "metadata": {},
   "outputs": [
    {
     "name": "stderr",
     "output_type": "stream",
     "text": [
      "/Applications/anaconda3/lib/python3.7/site-packages/pandas/core/frame.py:4034: SettingWithCopyWarning: \n",
      "A value is trying to be set on a copy of a slice from a DataFrame\n",
      "\n",
      "See the caveats in the documentation: http://pandas.pydata.org/pandas-docs/stable/indexing.html#indexing-view-versus-copy\n",
      "  downcast=downcast, **kwargs)\n"
     ]
    }
   ],
   "source": [
    "X.fillna(0,inplace=True)"
   ]
  },
  {
   "cell_type": "code",
   "execution_count": 549,
   "metadata": {},
   "outputs": [
    {
     "name": "stdout",
     "output_type": "stream",
     "text": [
      "All Done!\n"
     ]
    }
   ],
   "source": [
    "temp=[]\n",
    "for player in X.index:\n",
    "    a=X.loc[player]['pct_fga_00_03']*X.loc[player]['fg_pct_00_03']\n",
    "    b=X.loc[player]['pct_fga_03_10']*X.loc[player]['fg_pct_03_10']\n",
    "    c=X.loc[player]['pct_fga_10_16']*X.loc[player]['fg_pct_10_16']\n",
    "    d=X.loc[player]['pct_fga_16_xx']*X.loc[player]['fg_pct_16_xx']\n",
    "    e=X.loc[player]['fg3a_pct_fga']*X.loc[player]['fg3_pct']\n",
    "    rms = 1/np.sqrt(np.mean(np.array([a,b,c,d,e])**2))\n",
    "    temp.append(rms)\n",
    "print('All Done!')"
   ]
  },
  {
   "cell_type": "code",
   "execution_count": 552,
   "metadata": {},
   "outputs": [],
   "source": [
    "X_sc['shot_selection'] = (temp-np.mean(temp))/np.std(temp)\n",
    "X_sc.drop(['fg_pct_00_03','fg_pct_03_10', 'fg_pct_10_16', 'fg_pct_16_xx','fg3_pct'],axis=1,inplace=True)"
   ]
  },
  {
   "cell_type": "markdown",
   "metadata": {},
   "source": [
    "### Assist-to-Turnover Ratio\n",
    "A traditional metric for measuring the success of playmakers is the number of times their passes directly result in a made basket, as compared to the number of times they turn the ball over. Any player will necessarily make more errant passes the more time they're on the court but great passers will minimize those and maximize their teams productivity by placing passes in the right place at the right time. We'll calculate that here."
   ]
  },
  {
   "cell_type": "code",
   "execution_count": 497,
   "metadata": {
    "scrolled": true
   },
   "outputs": [
    {
     "data": {
      "text/html": [
       "<div>\n",
       "<style scoped>\n",
       "    .dataframe tbody tr th:only-of-type {\n",
       "        vertical-align: middle;\n",
       "    }\n",
       "\n",
       "    .dataframe tbody tr th {\n",
       "        vertical-align: top;\n",
       "    }\n",
       "\n",
       "    .dataframe thead th {\n",
       "        text-align: right;\n",
       "    }\n",
       "</style>\n",
       "<table border=\"1\" class=\"dataframe\">\n",
       "  <thead>\n",
       "    <tr style=\"text-align: right;\">\n",
       "      <th></th>\n",
       "      <th>ast_per_g</th>\n",
       "      <th>ast_pct</th>\n",
       "    </tr>\n",
       "  </thead>\n",
       "  <tbody>\n",
       "    <tr>\n",
       "      <th>ast_per_g</th>\n",
       "      <td>1.000000</td>\n",
       "      <td>0.984488</td>\n",
       "    </tr>\n",
       "    <tr>\n",
       "      <th>ast_pct</th>\n",
       "      <td>0.984488</td>\n",
       "      <td>1.000000</td>\n",
       "    </tr>\n",
       "  </tbody>\n",
       "</table>\n",
       "</div>"
      ],
      "text/plain": [
       "           ast_per_g   ast_pct\n",
       "ast_per_g   1.000000  0.984488\n",
       "ast_pct     0.984488  1.000000"
      ]
     },
     "execution_count": 497,
     "metadata": {},
     "output_type": "execute_result"
    }
   ],
   "source": [
    "X[['ast_per_g','ast_pct']].corr()"
   ]
  },
  {
   "cell_type": "markdown",
   "metadata": {},
   "source": [
    "These two are essentially the same numbers. assist percentage is pace adjusted to be per 100 possessions but to keep it consistent we'll use per-36 stats."
   ]
  },
  {
   "cell_type": "code",
   "execution_count": 584,
   "metadata": {
    "scrolled": true
   },
   "outputs": [
    {
     "data": {
      "text/html": [
       "<div>\n",
       "<style scoped>\n",
       "    .dataframe tbody tr th:only-of-type {\n",
       "        vertical-align: middle;\n",
       "    }\n",
       "\n",
       "    .dataframe tbody tr th {\n",
       "        vertical-align: top;\n",
       "    }\n",
       "\n",
       "    .dataframe thead th {\n",
       "        text-align: right;\n",
       "    }\n",
       "</style>\n",
       "<table border=\"1\" class=\"dataframe\">\n",
       "  <thead>\n",
       "    <tr style=\"text-align: right;\">\n",
       "      <th></th>\n",
       "      <th>tov_bad_pass</th>\n",
       "      <th>tov_pct</th>\n",
       "    </tr>\n",
       "  </thead>\n",
       "  <tbody>\n",
       "    <tr>\n",
       "      <th>tov_bad_pass</th>\n",
       "      <td>1.000000</td>\n",
       "      <td>0.617425</td>\n",
       "    </tr>\n",
       "    <tr>\n",
       "      <th>tov_pct</th>\n",
       "      <td>0.617425</td>\n",
       "      <td>1.000000</td>\n",
       "    </tr>\n",
       "  </tbody>\n",
       "</table>\n",
       "</div>"
      ],
      "text/plain": [
       "              tov_bad_pass   tov_pct\n",
       "tov_bad_pass      1.000000  0.617425\n",
       "tov_pct           0.617425  1.000000"
      ]
     },
     "execution_count": 584,
     "metadata": {},
     "output_type": "execute_result"
    }
   ],
   "source": [
    "X[['tov_bad_pass','tov_pct']].corr()"
   ]
  },
  {
   "cell_type": "markdown",
   "metadata": {},
   "source": [
    "There are plenty of ways to turn the ball over that don't involve errant passes. None of them are less embarassing."
   ]
  },
  {
   "cell_type": "code",
   "execution_count": 585,
   "metadata": {},
   "outputs": [],
   "source": [
    "temp = X['ast_per_g']/X['tov_bad_pass']\n",
    "X_sc['assist_turnover_ratio'] = (temp-np.mean(temp))/np.std(temp)\n",
    "X_sc.drop(['ast_per_g','tov_bad_pass','tov_per_g','ast_pct','tov_pct'],axis=1,inplace=True)"
   ]
  },
  {
   "cell_type": "markdown",
   "metadata": {},
   "source": [
    "###  Isolation Effectiveness\n",
    "Some players have a strong tendency to play 1-on-1 basketball with their defenders. These are referred to as isolation situations. These are characterized by the player often making multiple moves before attempting to score (rendering the person who passed them the ball ineligible for assists) and often times with turnovers by mishandling the ball against good defenders."
   ]
  },
  {
   "cell_type": "code",
   "execution_count": 570,
   "metadata": {},
   "outputs": [],
   "source": [
    "isos = ((1-X['fg2_pct_ast'])*X['fg2a_pct_fga'] + (1-X['fg3_pct_ast'])*X['fg3a_pct_fga'])*X['fga_per_g']"
   ]
  },
  {
   "cell_type": "code",
   "execution_count": 573,
   "metadata": {},
   "outputs": [],
   "source": [
    "temp = isos/(isos+X['tov_lost_ball'])\n",
    "X_sc['iso_effectiveness'] = (temp-np.mean(temp))/np.std(temp)\n",
    "X_sc.drop(['fg2_pct_ast','fg2a_pct_fga','fg3_pct_ast','fga_per_g','tov_lost_ball'],axis=1,inplace=True)"
   ]
  },
  {
   "cell_type": "markdown",
   "metadata": {},
   "source": [
    "### Efficient-Shot Selection\n",
    "The NBA 3pt line is a curve 22 feet away from the rim for the most part, but in the corners of the court, the arc becomes a straight line perpendicular to the baseline. This means that corner 3pt attempts are at least a full foot closer to the basket, are easier to hit but are worth the same amount and are therefore considered high efficiency shots (This is typically measured by points-per-possession on those types of shots). Additionally, layups within 0-3 feet of the basket reward as many points as jump shouts out to 21 feet away, and by virtue of their proximity to the basket, are typically considered good shots to take (again this is demonstrated in the points-per-possession stats on layups). Finally, dunks are often considered better shots than layups because you're much less likely to miss on those. Players who take these types of shots disproportionately may be good role players, taking efficient shots."
   ]
  },
  {
   "cell_type": "code",
   "execution_count": 626,
   "metadata": {},
   "outputs": [],
   "source": [
    "temp = (X['pct_fg3a_corner']*X['fg3a_per_g'] + X['pct_fg2_dunk'])"
   ]
  },
  {
   "cell_type": "code",
   "execution_count": 628,
   "metadata": {
    "scrolled": true
   },
   "outputs": [],
   "source": [
    "X_sc['efficient_shot_taker']=(temp-np.mean(temp))/np.std(temp)\n",
    "X_sc.drop(['pct_fg3a_corner','fg3a_per_g','pct_fg2_dunk'],axis=1,inplace=True)"
   ]
  },
  {
   "cell_type": "markdown",
   "metadata": {},
   "source": [
    "### Offensive-Defensive Rebound Ratio\n",
    "There are many players, typically large, athletic young guys with crazy motors who earn their paychecks by trying to snag up as many offensive rebounds (off own/team-mate misses) as possible. For these players, the Offensive-Defensive rebound ratio is higher."
   ]
  },
  {
   "cell_type": "code",
   "execution_count": 588,
   "metadata": {},
   "outputs": [],
   "source": [
    "temp = X['orb_per_g']/X['drb_per_g']\n",
    "X_sc['off_def_rebound'] = (temp-np.mean(temp))/np.std(temp)\n",
    "X_sc.drop(['orb_per_g','drb_per_g','orb_pct','drb_pct','trb_pct'],axis=1,inplace=True)"
   ]
  },
  {
   "cell_type": "markdown",
   "metadata": {},
   "source": [
    "### Offensive-Defensive Boxscore Plus Minus Ratio\n",
    "A boxscore plus-minus is a very simple measure; when this player is on the court, does the team outscore their opponents? This is broken down into estimates of the players contribution to the teams offense and defense. Although there may be a strong team component here (a single great defensive player won't be able to stop a whole team from scoring if surrounded by terrible defensive teammates), whether or not the defensive plus-minus is higher than the offensive could be a good indicator of a player's tendencies."
   ]
  },
  {
   "cell_type": "code",
   "execution_count": 702,
   "metadata": {},
   "outputs": [],
   "source": [
    "temp = (X['obpm']-X['dbpm'])\n",
    "X_sc['net_offensive_bpm'] = (temp-np.mean(temp))/np.std(temp)\n",
    "X_sc.drop(['obpm','dbpm'],axis=1,inplace=True)"
   ]
  },
  {
   "cell_type": "markdown",
   "metadata": {},
   "source": [
    "### Dropping Additional Columns\n",
    "The columns dropped below are ones I imagine are explained in no small part by the other features presented here."
   ]
  },
  {
   "cell_type": "code",
   "execution_count": 650,
   "metadata": {},
   "outputs": [],
   "source": [
    "X_sc.drop(['fta_per_g','fta_per_g','tov_bad_pass','stl_pct','bpm','fg_per_g'],axis=1,inplace=True)\n",
    "X_sc.drop(['fg3_heave','fg3a_heave','efg_pct','fg3a_per_fga_pct','fg2_per_g','fg2a_per_g','drb_pct','orb_pct','trb_pct'],axis=1,inplace=True)"
   ]
  },
  {
   "cell_type": "code",
   "execution_count": 721,
   "metadata": {
    "scrolled": false
   },
   "outputs": [
    {
     "data": {
      "image/png": "[encoded data removed]",
      "text/plain": [
       "<Figure size 864x864 with 1 Axes>"
      ]
     },
     "metadata": {
      "needs_background": "light"
     },
     "output_type": "display_data"
    }
   ],
   "source": [
    "plt.figure(figsize=(12,12))\n",
    "sns.heatmap(X_sc.corr(),square=True,cbar=False)\n",
    "plt.savefig('../assets/feat_eng_heatmap.png',dpi=500)"
   ]
  },
  {
   "cell_type": "markdown",
   "metadata": {},
   "source": [
    "At the very least, this correlation plot is a lot smaller than the one we had prior to feature engineering. The average pairwise correlation also looks smaller, and that the engineered features are not highly collinear is encouraging."
   ]
  },
  {
   "cell_type": "code",
   "execution_count": 705,
   "metadata": {
    "scrolled": true
   },
   "outputs": [
    {
     "name": "stdout",
     "output_type": "stream",
     "text": [
      "Mean Pairwise Correlation Before Feature Engineering: 0.0897, Standard Deviation of 0.0875\n",
      "Mean Pairwise Correlation After Feature Engineering: 0.0682, Standard Deviation of 0.0831\n"
     ]
    }
   ],
   "source": [
    "print(f'Mean Pairwise Correlation Before Feature Engineering: {round(np.mean(np.mean(X.corr())),4)}, Standard Deviation of {round(np.std(np.std(X.corr())),4)}')\n",
    "print(f'Mean Pairwise Correlation After Feature Engineering: {round(np.mean(np.mean(X_sc.corr())),4)}, Standard Deviation of {round(np.std(np.std(X_sc.corr())),4)}')"
   ]
  },
  {
   "cell_type": "markdown",
   "metadata": {},
   "source": [
    "Indeed, this is borne out by the average pairwise correlations of the two dataframes and their standard deviations."
   ]
  },
  {
   "cell_type": "code",
   "execution_count": 706,
   "metadata": {},
   "outputs": [],
   "source": [
    "X_sc.to_csv('../data/players_feat_eng_scaled.csv')"
   ]
  },
  {
   "cell_type": "code",
   "execution_count": 717,
   "metadata": {},
   "outputs": [],
   "source": [
    "X.to_csv('../data/players.csv')"
   ]
  }
 ],
 "metadata": {
  "kernelspec": {
   "display_name": "Python 3",
   "language": "python",
   "name": "python3"
  },
  "language_info": {
   "codemirror_mode": {
    "name": "ipython",
    "version": 3
   },
   "file_extension": ".py",
   "mimetype": "text/x-python",
   "name": "python",
   "nbconvert_exporter": "python",
   "pygments_lexer": "ipython3",
   "version": "3.7.2"
  }
 },
 "nbformat": 4,
 "nbformat_minor": 2
}
